{
  "cells": [
    {
      "cell_type": "markdown",
      "metadata": {
        "id": "bdkeNfHkmNOu"
      },
      "source": [
        "\n",
        "\n",
        "# AAI612: Deep Learning & its Applications\n",
        "\n",
        "*Notebook 4.3: Graded Assignment: Mini Project I*\n",
        "\n",
        "<a href=\"https://colab.research.google.com/github/harmanani/AAI612/blob/main/Week4/Notebook4.4.ipynb\" target=\"_parent\"><img src=\"https://colab.research.google.com/assets/colab-badge.svg\" alt=\"Open In Colab\"/></a>"
      ]
    },
    {
      "cell_type": "markdown",
      "metadata": {
        "id": "AkzMD_wEmNOw"
      },
      "source": [
        "# Assessment"
      ]
    },
    {
      "cell_type": "code",
      "execution_count": null,
      "metadata": {
        "id": "xJcD31iBmNOx"
      },
      "outputs": [],
      "source": []
    },
    {
      "cell_type": "markdown",
      "metadata": {
        "id": "dTfuGJMmmNOx"
      },
      "source": [
        "In this assessment, you will train a new model that is able to recognize fresh and rotten fruit. You will need to get the model to a validation accuracy of `92%` in order to pass the assessment, though we challenge you to do even better if you can. You will have the use the skills that you learned in the previous exercises. Specifically, we suggest using some combination of transfer learning, data augmentation, and fine tuning."
      ]
    },
    {
      "cell_type": "markdown",
      "metadata": {
        "id": "Urzp1FE5mNOx"
      },
      "source": [
        "## The Dataset"
      ]
    },
    {
      "cell_type": "markdown",
      "metadata": {
        "id": "QXJrJIoqmNOx"
      },
      "source": [
        "In this exercise, you will train a model to recognize fresh and rotten fruits. Download the dataset from [Kaggle](https://www.kaggle.com/sriramr/fruits-fresh-and-rotten-for-classification). The dataset structure is in the `data/fruits` folder. There are 6 categories of fruits: fresh apples, fresh oranges, fresh bananas, rotten apples, rotten oranges, and rotten bananas. This will mean that your model will require an output layer of 6 neurons to do the categorization successfully. You'll also need to compile the model with `categorical_crossentropy`, as we have more than two categories."
      ]
    },
    {
      "cell_type": "markdown",
      "metadata": {
        "id": "YqoT3Hu_mNOx"
      },
      "source": [
        "![image.png](attachment:4c8c02c9-0cbe-4048-8d01-cdd5e3cf3fe6.png)<img src=\"https://github.com/harmanani/AAI612/blob/main/Week4/images/fruits.png?raw=1\" style=\"width: 600px;\">"
      ]
    },
    {
      "cell_type": "code",
      "source": [
        "#download data from the folder\n",
        "\n",
        "!wget https://raw.githubusercontent.com/harmanani/AAI612/a9fbfe6c1bd36ec86071d9589e3b4a035a9afb89/Week4/data.zip\n",
        "!unzip data.zip\n"
      ],
      "metadata": {
        "colab": {
          "base_uri": "https://localhost:8080/"
        },
        "id": "3xpyIsHhnOn2",
        "outputId": "8ef72ea6-8fee-4dde-a2e9-370563d318aa"
      },
      "execution_count": 1,
      "outputs": [
        {
          "output_type": "stream",
          "name": "stdout",
          "text": [
            "--2025-02-08 09:16:28--  https://raw.githubusercontent.com/harmanani/AAI612/a9fbfe6c1bd36ec86071d9589e3b4a035a9afb89/Week4/data.zip\n",
            "Resolving raw.githubusercontent.com (raw.githubusercontent.com)... 185.199.109.133, 185.199.108.133, 185.199.110.133, ...\n",
            "Connecting to raw.githubusercontent.com (raw.githubusercontent.com)|185.199.109.133|:443... connected.\n",
            "HTTP request sent, awaiting response... 200 OK\n",
            "Length: 94837216 (90M) [application/zip]\n",
            "Saving to: ‘data.zip’\n",
            "\n",
            "data.zip            100%[===================>]  90.44M   169MB/s    in 0.5s    \n",
            "\n",
            "2025-02-08 09:16:31 (169 MB/s) - ‘data.zip’ saved [94837216/94837216]\n",
            "\n",
            "Archive:  data.zip\n",
            "   creating: data/\n",
            "  inflating: data/.DS_Store          \n",
            "  inflating: __MACOSX/data/._.DS_Store  \n",
            "   creating: data/fruits/\n",
            "   creating: data/fruits/valid/\n",
            "  inflating: data/fruits/.DS_Store   \n",
            "  inflating: __MACOSX/data/fruits/._.DS_Store  \n",
            "   creating: data/fruits/train/\n",
            "   creating: data/fruits/valid/freshbanana/\n",
            "   creating: data/fruits/valid/rottenbanana/\n",
            "   creating: data/fruits/valid/freshoranges/\n",
            "   creating: data/fruits/valid/freshapples/\n",
            "   creating: data/fruits/valid/rottenoranges/\n",
            "   creating: data/fruits/valid/rottenapples/\n",
            "   creating: data/fruits/train/freshbanana/\n",
            "  inflating: data/fruits/train/.DS_Store  \n",
            "  inflating: __MACOSX/data/fruits/train/._.DS_Store  \n",
            "   creating: data/fruits/train/rottenbanana/\n",
            "   creating: data/fruits/train/freshoranges/\n",
            "   creating: data/fruits/train/freshapples/\n",
            "   creating: data/fruits/train/rottenoranges/\n",
            "   creating: data/fruits/train/rottenapples/\n",
            "  inflating: data/fruits/valid/freshbanana/Screen Shot 2018-06-12 at 10.05.54 PM.png  \n",
            "  inflating: __MACOSX/data/fruits/valid/freshbanana/._Screen Shot 2018-06-12 at 10.05.54 PM.png  \n",
            "  inflating: data/fruits/valid/freshbanana/Screen Shot 2018-06-12 at 9.53.51 PM.png  \n",
            "  inflating: __MACOSX/data/fruits/valid/freshbanana/._Screen Shot 2018-06-12 at 9.53.51 PM.png  \n",
            "  inflating: data/fruits/valid/freshbanana/Screen Shot 2018-06-12 at 9.39.33 PM.png  \n",
            "  inflating: __MACOSX/data/fruits/valid/freshbanana/._Screen Shot 2018-06-12 at 9.39.33 PM.png  \n",
            "  inflating: data/fruits/valid/freshbanana/Screen Shot 2018-06-12 at 9.57.17 PM.png  \n",
            "  inflating: __MACOSX/data/fruits/valid/freshbanana/._Screen Shot 2018-06-12 at 9.57.17 PM.png  \n",
            "  inflating: data/fruits/valid/freshbanana/Screen Shot 2018-06-12 at 9.53.03 PM.png  \n",
            "  inflating: __MACOSX/data/fruits/valid/freshbanana/._Screen Shot 2018-06-12 at 9.53.03 PM.png  \n",
            "  inflating: data/fruits/valid/freshbanana/Screen Shot 2018-06-12 at 9.43.59 PM.png  \n",
            "  inflating: __MACOSX/data/fruits/valid/freshbanana/._Screen Shot 2018-06-12 at 9.43.59 PM.png  \n",
            "  inflating: data/fruits/valid/rottenbanana/Screen Shot 2018-06-12 at 9.13.48 PM.png  \n",
            "  inflating: __MACOSX/data/fruits/valid/rottenbanana/._Screen Shot 2018-06-12 at 9.13.48 PM.png  \n",
            "  inflating: data/fruits/valid/rottenbanana/Screen Shot 2018-06-12 at 8.51.46 PM.png  \n",
            "  inflating: __MACOSX/data/fruits/valid/rottenbanana/._Screen Shot 2018-06-12 at 8.51.46 PM.png  \n",
            "  inflating: data/fruits/valid/rottenbanana/Screen Shot 2018-06-12 at 9.06.33 PM.png  \n",
            "  inflating: __MACOSX/data/fruits/valid/rottenbanana/._Screen Shot 2018-06-12 at 9.06.33 PM.png  \n",
            "  inflating: data/fruits/valid/rottenbanana/Screen Shot 2018-06-12 at 8.58.38 PM.png  \n",
            "  inflating: __MACOSX/data/fruits/valid/rottenbanana/._Screen Shot 2018-06-12 at 8.58.38 PM.png  \n",
            "  inflating: data/fruits/valid/rottenbanana/Screen Shot 2018-06-12 at 8.53.47 PM.png  \n",
            "  inflating: __MACOSX/data/fruits/valid/rottenbanana/._Screen Shot 2018-06-12 at 8.53.47 PM.png  \n",
            "  inflating: data/fruits/valid/rottenbanana/Screen Shot 2018-06-12 at 9.11.00 PM.png  \n",
            "  inflating: __MACOSX/data/fruits/valid/rottenbanana/._Screen Shot 2018-06-12 at 9.11.00 PM.png  \n",
            "  inflating: data/fruits/valid/rottenbanana/Screen Shot 2018-06-12 at 9.19.17 PM.png  \n",
            "  inflating: __MACOSX/data/fruits/valid/rottenbanana/._Screen Shot 2018-06-12 at 9.19.17 PM.png  \n",
            "  inflating: data/fruits/valid/rottenbanana/Screen Shot 2018-06-12 at 8.57.54 PM.png  \n",
            "  inflating: __MACOSX/data/fruits/valid/rottenbanana/._Screen Shot 2018-06-12 at 8.57.54 PM.png  \n",
            "  inflating: data/fruits/valid/rottenbanana/Screen Shot 2018-06-12 at 9.04.41 PM.png  \n",
            "  inflating: __MACOSX/data/fruits/valid/rottenbanana/._Screen Shot 2018-06-12 at 9.04.41 PM.png  \n",
            "  inflating: data/fruits/valid/rottenbanana/Screen Shot 2018-06-12 at 9.17.57 PM.png  \n",
            "  inflating: __MACOSX/data/fruits/valid/rottenbanana/._Screen Shot 2018-06-12 at 9.17.57 PM.png  \n",
            "  inflating: data/fruits/valid/rottenbanana/Screen Shot 2018-06-12 at 9.03.34 PM.png  \n",
            "  inflating: __MACOSX/data/fruits/valid/rottenbanana/._Screen Shot 2018-06-12 at 9.03.34 PM.png  \n",
            "  inflating: data/fruits/valid/rottenbanana/Screen Shot 2018-06-12 at 9.16.28 PM.png  \n",
            "  inflating: __MACOSX/data/fruits/valid/rottenbanana/._Screen Shot 2018-06-12 at 9.16.28 PM.png  \n",
            "  inflating: data/fruits/valid/rottenbanana/Screen Shot 2018-06-12 at 8.47.41 PM.png  \n",
            "  inflating: __MACOSX/data/fruits/valid/rottenbanana/._Screen Shot 2018-06-12 at 8.47.41 PM.png  \n",
            "  inflating: data/fruits/valid/rottenbanana/Screen Shot 2018-06-12 at 9.27.56 PM.png  \n",
            "  inflating: __MACOSX/data/fruits/valid/rottenbanana/._Screen Shot 2018-06-12 at 9.27.56 PM.png  \n",
            "  inflating: data/fruits/valid/rottenbanana/Screen Shot 2018-06-12 at 9.13.21 PM.png  \n",
            "  inflating: __MACOSX/data/fruits/valid/rottenbanana/._Screen Shot 2018-06-12 at 9.13.21 PM.png  \n",
            "  inflating: data/fruits/valid/rottenbanana/Screen Shot 2018-06-12 at 9.22.32 PM.png  \n",
            "  inflating: __MACOSX/data/fruits/valid/rottenbanana/._Screen Shot 2018-06-12 at 9.22.32 PM.png  \n",
            "  inflating: data/fruits/valid/rottenbanana/Screen Shot 2018-06-12 at 9.14.22 PM.png  \n",
            "  inflating: __MACOSX/data/fruits/valid/rottenbanana/._Screen Shot 2018-06-12 at 9.14.22 PM.png  \n",
            "  inflating: data/fruits/valid/rottenbanana/Screen Shot 2018-06-12 at 9.04.15 PM.png  \n",
            "  inflating: __MACOSX/data/fruits/valid/rottenbanana/._Screen Shot 2018-06-12 at 9.04.15 PM.png  \n",
            "  inflating: data/fruits/valid/rottenbanana/Screen Shot 2018-06-12 at 8.54.23 PM.png  \n",
            "  inflating: __MACOSX/data/fruits/valid/rottenbanana/._Screen Shot 2018-06-12 at 8.54.23 PM.png  \n",
            "  inflating: data/fruits/valid/rottenbanana/Screen Shot 2018-06-12 at 9.01.10 PM.png  \n",
            "  inflating: __MACOSX/data/fruits/valid/rottenbanana/._Screen Shot 2018-06-12 at 9.01.10 PM.png  \n",
            "  inflating: data/fruits/valid/rottenbanana/Screen Shot 2018-06-12 at 9.01.26 PM.png  \n",
            "  inflating: __MACOSX/data/fruits/valid/rottenbanana/._Screen Shot 2018-06-12 at 9.01.26 PM.png  \n",
            "  inflating: data/fruits/valid/rottenbanana/Screen Shot 2018-06-12 at 8.54.07 PM.png  \n",
            "  inflating: __MACOSX/data/fruits/valid/rottenbanana/._Screen Shot 2018-06-12 at 8.54.07 PM.png  \n",
            "  inflating: data/fruits/valid/rottenbanana/Screen Shot 2018-06-12 at 9.13.16 PM.png  \n",
            "  inflating: __MACOSX/data/fruits/valid/rottenbanana/._Screen Shot 2018-06-12 at 9.13.16 PM.png  \n",
            "  inflating: data/fruits/valid/rottenbanana/Screen Shot 2018-06-12 at 9.12.57 PM.png  \n",
            "  inflating: __MACOSX/data/fruits/valid/rottenbanana/._Screen Shot 2018-06-12 at 9.12.57 PM.png  \n",
            "  inflating: data/fruits/valid/rottenbanana/Screen Shot 2018-06-12 at 8.57.14 PM.png  \n",
            "  inflating: __MACOSX/data/fruits/valid/rottenbanana/._Screen Shot 2018-06-12 at 8.57.14 PM.png  \n",
            "  inflating: data/fruits/valid/freshoranges/Screen Shot 2018-06-13 at 12.13.29 AM.png  \n",
            "  inflating: __MACOSX/data/fruits/valid/freshoranges/._Screen Shot 2018-06-13 at 12.13.29 AM.png  \n",
            "  inflating: data/fruits/valid/freshoranges/Screen Shot 2018-06-13 at 12.10.16 AM.png  \n",
            "  inflating: __MACOSX/data/fruits/valid/freshoranges/._Screen Shot 2018-06-13 at 12.10.16 AM.png  \n",
            "  inflating: data/fruits/valid/freshoranges/Screen Shot 2018-06-12 at 11.50.41 PM.png  \n",
            "  inflating: __MACOSX/data/fruits/valid/freshoranges/._Screen Shot 2018-06-12 at 11.50.41 PM.png  \n",
            "  inflating: data/fruits/valid/freshoranges/Screen Shot 2018-06-12 at 11.50.14 PM.png  \n",
            "  inflating: __MACOSX/data/fruits/valid/freshoranges/._Screen Shot 2018-06-12 at 11.50.14 PM.png  \n",
            "  inflating: data/fruits/valid/freshoranges/Screen Shot 2018-06-13 at 12.17.43 AM.png  \n",
            "  inflating: __MACOSX/data/fruits/valid/freshoranges/._Screen Shot 2018-06-13 at 12.17.43 AM.png  \n",
            "  inflating: data/fruits/valid/freshoranges/Screen Shot 2018-06-13 at 12.07.17 AM.png  \n",
            "  inflating: __MACOSX/data/fruits/valid/freshoranges/._Screen Shot 2018-06-13 at 12.07.17 AM.png  \n",
            "  inflating: data/fruits/valid/freshoranges/Screen Shot 2018-06-13 at 12.00.43 AM.png  \n",
            "  inflating: __MACOSX/data/fruits/valid/freshoranges/._Screen Shot 2018-06-13 at 12.00.43 AM.png  \n",
            "  inflating: data/fruits/valid/freshoranges/Screen Shot 2018-06-13 at 12.06.36 AM.png  \n",
            "  inflating: __MACOSX/data/fruits/valid/freshoranges/._Screen Shot 2018-06-13 at 12.06.36 AM.png  \n",
            "  inflating: data/fruits/valid/freshoranges/Screen Shot 2018-06-12 at 11.53.43 PM.png  \n",
            "  inflating: __MACOSX/data/fruits/valid/freshoranges/._Screen Shot 2018-06-12 at 11.53.43 PM.png  \n",
            "  inflating: data/fruits/valid/freshoranges/Screen Shot 2018-06-13 at 12.04.46 AM.png  \n",
            "  inflating: __MACOSX/data/fruits/valid/freshoranges/._Screen Shot 2018-06-13 at 12.04.46 AM.png  \n",
            "  inflating: data/fruits/valid/freshoranges/Screen Shot 2018-06-12 at 11.50.54 PM.png  \n",
            "  inflating: __MACOSX/data/fruits/valid/freshoranges/._Screen Shot 2018-06-12 at 11.50.54 PM.png  \n",
            "  inflating: data/fruits/valid/freshapples/Screen Shot 2018-06-08 at 5.13.54 PM.png  \n",
            "  inflating: __MACOSX/data/fruits/valid/freshapples/._Screen Shot 2018-06-08 at 5.13.54 PM.png  \n",
            "  inflating: data/fruits/valid/freshapples/Screen Shot 2018-06-08 at 5.27.54 PM.png  \n",
            "  inflating: __MACOSX/data/fruits/valid/freshapples/._Screen Shot 2018-06-08 at 5.27.54 PM.png  \n",
            "  inflating: data/fruits/valid/freshapples/Screen Shot 2018-06-08 at 5.08.37 PM.png  \n",
            "  inflating: __MACOSX/data/fruits/valid/freshapples/._Screen Shot 2018-06-08 at 5.08.37 PM.png  \n",
            "  inflating: data/fruits/valid/freshapples/Screen Shot 2018-06-08 at 5.15.45 PM.png  \n",
            "  inflating: __MACOSX/data/fruits/valid/freshapples/._Screen Shot 2018-06-08 at 5.15.45 PM.png  \n",
            "  inflating: data/fruits/valid/freshapples/Screen Shot 2018-06-08 at 5.01.22 PM.png  \n",
            "  inflating: __MACOSX/data/fruits/valid/freshapples/._Screen Shot 2018-06-08 at 5.01.22 PM.png  \n",
            "  inflating: data/fruits/valid/freshapples/Screen Shot 2018-06-08 at 5.01.41 PM.png  \n",
            "  inflating: __MACOSX/data/fruits/valid/freshapples/._Screen Shot 2018-06-08 at 5.01.41 PM.png  \n",
            "  inflating: data/fruits/valid/rottenoranges/Screen Shot 2018-06-12 at 11.29.44 PM.png  \n",
            "  inflating: __MACOSX/data/fruits/valid/rottenoranges/._Screen Shot 2018-06-12 at 11.29.44 PM.png  \n",
            "  inflating: data/fruits/valid/rottenoranges/Screen Shot 2018-06-12 at 11.21.22 PM.png  \n",
            "  inflating: __MACOSX/data/fruits/valid/rottenoranges/._Screen Shot 2018-06-12 at 11.21.22 PM.png  \n",
            "  inflating: data/fruits/valid/rottenoranges/Screen Shot 2018-06-12 at 11.41.35 PM.png  \n",
            "  inflating: __MACOSX/data/fruits/valid/rottenoranges/._Screen Shot 2018-06-12 at 11.41.35 PM.png  \n",
            "  inflating: data/fruits/valid/rottenoranges/Screen Shot 2018-06-12 at 11.25.25 PM.png  \n",
            "  inflating: __MACOSX/data/fruits/valid/rottenoranges/._Screen Shot 2018-06-12 at 11.25.25 PM.png  \n",
            "  inflating: data/fruits/valid/rottenoranges/Screen Shot 2018-06-12 at 11.38.26 PM.png  \n",
            "  inflating: __MACOSX/data/fruits/valid/rottenoranges/._Screen Shot 2018-06-12 at 11.38.26 PM.png  \n",
            "  inflating: data/fruits/valid/rottenoranges/Screen Shot 2018-06-12 at 11.32.13 PM.png  \n",
            "  inflating: __MACOSX/data/fruits/valid/rottenoranges/._Screen Shot 2018-06-12 at 11.32.13 PM.png  \n",
            "  inflating: data/fruits/valid/rottenoranges/Screen Shot 2018-06-12 at 11.30.28 PM.png  \n",
            "  inflating: __MACOSX/data/fruits/valid/rottenoranges/._Screen Shot 2018-06-12 at 11.30.28 PM.png  \n",
            "  inflating: data/fruits/valid/rottenoranges/Screen Shot 2018-06-12 at 11.21.29 PM.png  \n",
            "  inflating: __MACOSX/data/fruits/valid/rottenoranges/._Screen Shot 2018-06-12 at 11.21.29 PM.png  \n",
            "  inflating: data/fruits/valid/rottenoranges/Screen Shot 2018-06-12 at 11.38.13 PM.png  \n",
            "  inflating: __MACOSX/data/fruits/valid/rottenoranges/._Screen Shot 2018-06-12 at 11.38.13 PM.png  \n",
            "  inflating: data/fruits/valid/rottenoranges/Screen Shot 2018-06-12 at 11.19.01 PM.png  \n",
            "  inflating: __MACOSX/data/fruits/valid/rottenoranges/._Screen Shot 2018-06-12 at 11.19.01 PM.png  \n",
            "  inflating: data/fruits/valid/rottenoranges/Screen Shot 2018-06-12 at 11.19.56 PM.png  \n",
            "  inflating: __MACOSX/data/fruits/valid/rottenoranges/._Screen Shot 2018-06-12 at 11.19.56 PM.png  \n",
            "  inflating: data/fruits/valid/rottenoranges/Screen Shot 2018-06-12 at 11.27.01 PM.png  \n",
            "  inflating: __MACOSX/data/fruits/valid/rottenoranges/._Screen Shot 2018-06-12 at 11.27.01 PM.png  \n",
            "  inflating: data/fruits/valid/rottenapples/Screen Shot 2018-06-07 at 2.20.34 PM.png  \n",
            "  inflating: __MACOSX/data/fruits/valid/rottenapples/._Screen Shot 2018-06-07 at 2.20.34 PM.png  \n",
            "  inflating: data/fruits/valid/rottenapples/Screen Shot 2018-06-07 at 3.06.30 PM.png  \n",
            "  inflating: __MACOSX/data/fruits/valid/rottenapples/._Screen Shot 2018-06-07 at 3.06.30 PM.png  \n",
            "  inflating: data/fruits/valid/rottenapples/Screen Shot 2018-06-07 at 2.39.20 PM.png  \n",
            "  inflating: __MACOSX/data/fruits/valid/rottenapples/._Screen Shot 2018-06-07 at 2.39.20 PM.png  \n",
            "  inflating: data/fruits/valid/rottenapples/Screen Shot 2018-06-07 at 3.02.37 PM.png  \n",
            "  inflating: __MACOSX/data/fruits/valid/rottenapples/._Screen Shot 2018-06-07 at 3.02.37 PM.png  \n",
            "  inflating: data/fruits/valid/rottenapples/Screen Shot 2018-06-07 at 2.38.59 PM.png  \n",
            "  inflating: __MACOSX/data/fruits/valid/rottenapples/._Screen Shot 2018-06-07 at 2.38.59 PM.png  \n",
            "  inflating: data/fruits/valid/rottenapples/Screen Shot 2018-06-08 at 2.25.17 PM.png  \n",
            "  inflating: __MACOSX/data/fruits/valid/rottenapples/._Screen Shot 2018-06-08 at 2.25.17 PM.png  \n",
            "  inflating: data/fruits/train/freshbanana/Screen Shot 2018-06-12 at 9.57.58 PM.png  \n",
            "  inflating: __MACOSX/data/fruits/train/freshbanana/._Screen Shot 2018-06-12 at 9.57.58 PM.png  \n",
            "  inflating: data/fruits/train/freshbanana/Screen Shot 2018-06-12 at 9.51.44 PM.png  \n",
            "  inflating: __MACOSX/data/fruits/train/freshbanana/._Screen Shot 2018-06-12 at 9.51.44 PM.png  \n",
            "  inflating: data/fruits/train/freshbanana/Screen Shot 2018-06-12 at 9.42.09 PM.png  \n",
            "  inflating: __MACOSX/data/fruits/train/freshbanana/._Screen Shot 2018-06-12 at 9.42.09 PM.png  \n",
            "  inflating: data/fruits/train/freshbanana/Screen Shot 2018-06-12 at 9.46.30 PM.png  \n",
            "  inflating: __MACOSX/data/fruits/train/freshbanana/._Screen Shot 2018-06-12 at 9.46.30 PM.png  \n",
            "  inflating: data/fruits/train/freshbanana/Screen Shot 2018-06-12 at 9.52.45 PM.png  \n",
            "  inflating: __MACOSX/data/fruits/train/freshbanana/._Screen Shot 2018-06-12 at 9.52.45 PM.png  \n",
            "  inflating: data/fruits/train/freshbanana/Screen Shot 2018-06-12 at 9.40.10 PM.png  \n",
            "  inflating: __MACOSX/data/fruits/train/freshbanana/._Screen Shot 2018-06-12 at 9.40.10 PM.png  \n",
            "  inflating: data/fruits/train/freshbanana/Screen Shot 2018-06-12 at 9.53.22 PM.png  \n",
            "  inflating: __MACOSX/data/fruits/train/freshbanana/._Screen Shot 2018-06-12 at 9.53.22 PM.png  \n",
            "  inflating: data/fruits/train/freshbanana/Screen Shot 2018-06-12 at 9.53.30 PM.png  \n",
            "  inflating: __MACOSX/data/fruits/train/freshbanana/._Screen Shot 2018-06-12 at 9.53.30 PM.png  \n",
            "  inflating: data/fruits/train/freshbanana/Screen Shot 2018-06-12 at 9.49.37 PM.png  \n",
            "  inflating: __MACOSX/data/fruits/train/freshbanana/._Screen Shot 2018-06-12 at 9.49.37 PM.png  \n",
            "  inflating: data/fruits/train/freshbanana/Screen Shot 2018-06-12 at 9.42.03 PM.png  \n",
            "  inflating: __MACOSX/data/fruits/train/freshbanana/._Screen Shot 2018-06-12 at 9.42.03 PM.png  \n",
            "  inflating: data/fruits/train/freshbanana/Screen Shot 2018-06-12 at 10.00.12 PM.png  \n",
            "  inflating: __MACOSX/data/fruits/train/freshbanana/._Screen Shot 2018-06-12 at 10.00.12 PM.png  \n",
            "  inflating: data/fruits/train/freshbanana/Screen Shot 2018-06-12 at 9.46.12 PM.png  \n",
            "  inflating: __MACOSX/data/fruits/train/freshbanana/._Screen Shot 2018-06-12 at 9.46.12 PM.png  \n",
            "  inflating: data/fruits/train/freshbanana/Screen Shot 2018-06-12 at 9.52.21 PM.png  \n",
            "  inflating: __MACOSX/data/fruits/train/freshbanana/._Screen Shot 2018-06-12 at 9.52.21 PM.png  \n",
            "  inflating: data/fruits/train/freshbanana/Screen Shot 2018-06-12 at 10.07.13 PM.png  \n",
            "  inflating: __MACOSX/data/fruits/train/freshbanana/._Screen Shot 2018-06-12 at 10.07.13 PM.png  \n",
            "  inflating: data/fruits/train/freshbanana/Screen Shot 2018-06-12 at 9.39.00 PM.png  \n",
            "  inflating: __MACOSX/data/fruits/train/freshbanana/._Screen Shot 2018-06-12 at 9.39.00 PM.png  \n",
            "  inflating: data/fruits/train/freshbanana/Screen Shot 2018-06-12 at 9.51.00 PM.png  \n",
            "  inflating: __MACOSX/data/fruits/train/freshbanana/._Screen Shot 2018-06-12 at 9.51.00 PM.png  \n",
            "  inflating: data/fruits/train/freshbanana/Screen Shot 2018-06-12 at 9.56.16 PM.png  \n",
            "  inflating: __MACOSX/data/fruits/train/freshbanana/._Screen Shot 2018-06-12 at 9.56.16 PM.png  \n",
            "  inflating: data/fruits/train/freshbanana/Screen Shot 2018-06-12 at 9.41.03 PM.png  \n",
            "  inflating: __MACOSX/data/fruits/train/freshbanana/._Screen Shot 2018-06-12 at 9.41.03 PM.png  \n",
            "  inflating: data/fruits/train/freshbanana/Screen Shot 2018-06-12 at 9.51.24 PM.png  \n",
            "  inflating: __MACOSX/data/fruits/train/freshbanana/._Screen Shot 2018-06-12 at 9.51.24 PM.png  \n",
            "  inflating: data/fruits/train/freshbanana/Screen Shot 2018-06-12 at 10.00.07 PM.png  \n",
            "  inflating: __MACOSX/data/fruits/train/freshbanana/._Screen Shot 2018-06-12 at 10.00.07 PM.png  \n",
            "  inflating: data/fruits/train/freshbanana/Screen Shot 2018-06-12 at 9.51.36 PM.png  \n",
            "  inflating: __MACOSX/data/fruits/train/freshbanana/._Screen Shot 2018-06-12 at 9.51.36 PM.png  \n",
            "  inflating: data/fruits/train/freshbanana/Screen Shot 2018-06-12 at 9.50.38 PM.png  \n",
            "  inflating: __MACOSX/data/fruits/train/freshbanana/._Screen Shot 2018-06-12 at 9.50.38 PM.png  \n",
            "  inflating: data/fruits/train/freshbanana/Screen Shot 2018-06-12 at 9.48.04 PM.png  \n",
            "  inflating: __MACOSX/data/fruits/train/freshbanana/._Screen Shot 2018-06-12 at 9.48.04 PM.png  \n",
            "  inflating: data/fruits/train/freshbanana/Screen Shot 2018-06-12 at 9.55.19 PM.png  \n",
            "  inflating: __MACOSX/data/fruits/train/freshbanana/._Screen Shot 2018-06-12 at 9.55.19 PM.png  \n",
            "  inflating: data/fruits/train/freshbanana/Screen Shot 2018-06-12 at 10.04.59 PM.png  \n",
            "  inflating: __MACOSX/data/fruits/train/freshbanana/._Screen Shot 2018-06-12 at 10.04.59 PM.png  \n",
            "  inflating: data/fruits/train/freshbanana/Screen Shot 2018-06-12 at 10.07.52 PM.png  \n",
            "  inflating: __MACOSX/data/fruits/train/freshbanana/._Screen Shot 2018-06-12 at 10.07.52 PM.png  \n",
            "  inflating: data/fruits/train/freshbanana/Screen Shot 2018-06-12 at 10.04.49 PM.png  \n",
            "  inflating: __MACOSX/data/fruits/train/freshbanana/._Screen Shot 2018-06-12 at 10.04.49 PM.png  \n",
            "  inflating: data/fruits/train/freshbanana/Screen Shot 2018-06-12 at 9.53.07 PM.png  \n",
            "  inflating: __MACOSX/data/fruits/train/freshbanana/._Screen Shot 2018-06-12 at 9.53.07 PM.png  \n",
            "  inflating: data/fruits/train/rottenbanana/Screen Shot 2018-06-12 at 9.03.55 PM.png  \n",
            "  inflating: __MACOSX/data/fruits/train/rottenbanana/._Screen Shot 2018-06-12 at 9.03.55 PM.png  \n",
            "  inflating: data/fruits/train/rottenbanana/Screen Shot 2018-06-12 at 9.10.32 PM.png  \n",
            "  inflating: __MACOSX/data/fruits/train/rottenbanana/._Screen Shot 2018-06-12 at 9.10.32 PM.png  \n",
            "  inflating: data/fruits/train/rottenbanana/Screen Shot 2018-06-12 at 9.04.08 PM.png  \n",
            "  inflating: __MACOSX/data/fruits/train/rottenbanana/._Screen Shot 2018-06-12 at 9.04.08 PM.png  \n",
            "  inflating: data/fruits/train/rottenbanana/Screen Shot 2018-06-12 at 9.03.12 PM.png  \n",
            "  inflating: __MACOSX/data/fruits/train/rottenbanana/._Screen Shot 2018-06-12 at 9.03.12 PM.png  \n",
            "  inflating: data/fruits/train/rottenbanana/Screen Shot 2018-06-12 at 9.05.02 PM.png  \n",
            "  inflating: __MACOSX/data/fruits/train/rottenbanana/._Screen Shot 2018-06-12 at 9.05.02 PM.png  \n",
            "  inflating: data/fruits/train/rottenbanana/Screen Shot 2018-06-12 at 9.06.21 PM.png  \n",
            "  inflating: __MACOSX/data/fruits/train/rottenbanana/._Screen Shot 2018-06-12 at 9.06.21 PM.png  \n",
            "  inflating: data/fruits/train/rottenbanana/Screen Shot 2018-06-12 at 8.50.15 PM.png  \n",
            "  inflating: __MACOSX/data/fruits/train/rottenbanana/._Screen Shot 2018-06-12 at 8.50.15 PM.png  \n",
            "  inflating: data/fruits/train/rottenbanana/Screen Shot 2018-06-12 at 8.54.43 PM.png  \n",
            "  inflating: __MACOSX/data/fruits/train/rottenbanana/._Screen Shot 2018-06-12 at 8.54.43 PM.png  \n",
            "  inflating: data/fruits/train/rottenbanana/Screen Shot 2018-06-12 at 9.12.17 PM.png  \n",
            "  inflating: __MACOSX/data/fruits/train/rottenbanana/._Screen Shot 2018-06-12 at 9.12.17 PM.png  \n",
            "  inflating: data/fruits/train/rottenbanana/Screen Shot 2018-06-12 at 8.57.46 PM.png  \n",
            "  inflating: __MACOSX/data/fruits/train/rottenbanana/._Screen Shot 2018-06-12 at 8.57.46 PM.png  \n",
            "  inflating: data/fruits/train/rottenbanana/Screen Shot 2018-06-12 at 8.57.29 PM.png  \n",
            "  inflating: __MACOSX/data/fruits/train/rottenbanana/._Screen Shot 2018-06-12 at 8.57.29 PM.png  \n",
            "  inflating: data/fruits/train/rottenbanana/Screen Shot 2018-06-12 at 9.02.32 PM.png  \n",
            "  inflating: __MACOSX/data/fruits/train/rottenbanana/._Screen Shot 2018-06-12 at 9.02.32 PM.png  \n",
            "  inflating: data/fruits/train/rottenbanana/Screen Shot 2018-06-12 at 8.54.30 PM.png  \n",
            "  inflating: __MACOSX/data/fruits/train/rottenbanana/._Screen Shot 2018-06-12 at 8.54.30 PM.png  \n",
            "  inflating: data/fruits/train/rottenbanana/Screen Shot 2018-06-12 at 9.19.42 PM.png  \n",
            "  inflating: __MACOSX/data/fruits/train/rottenbanana/._Screen Shot 2018-06-12 at 9.19.42 PM.png  \n",
            "  inflating: data/fruits/train/rottenbanana/Screen Shot 2018-06-12 at 9.08.12 PM.png  \n",
            "  inflating: __MACOSX/data/fruits/train/rottenbanana/._Screen Shot 2018-06-12 at 9.08.12 PM.png  \n",
            "  inflating: data/fruits/train/rottenbanana/Screen Shot 2018-06-12 at 9.10.41 PM.png  \n",
            "  inflating: __MACOSX/data/fruits/train/rottenbanana/._Screen Shot 2018-06-12 at 9.10.41 PM.png  \n",
            "  inflating: data/fruits/train/rottenbanana/Screen Shot 2018-06-12 at 9.13.54 PM.png  \n",
            "  inflating: __MACOSX/data/fruits/train/rottenbanana/._Screen Shot 2018-06-12 at 9.13.54 PM.png  \n",
            "  inflating: data/fruits/train/rottenbanana/Screen Shot 2018-06-12 at 9.02.24 PM.png  \n",
            "  inflating: __MACOSX/data/fruits/train/rottenbanana/._Screen Shot 2018-06-12 at 9.02.24 PM.png  \n",
            "  inflating: data/fruits/train/rottenbanana/Screen Shot 2018-06-12 at 9.12.11 PM.png  \n",
            "  inflating: __MACOSX/data/fruits/train/rottenbanana/._Screen Shot 2018-06-12 at 9.12.11 PM.png  \n",
            "  inflating: data/fruits/train/rottenbanana/Screen Shot 2018-06-12 at 9.11.43 PM.png  \n",
            "  inflating: __MACOSX/data/fruits/train/rottenbanana/._Screen Shot 2018-06-12 at 9.11.43 PM.png  \n",
            "  inflating: data/fruits/train/rottenbanana/Screen Shot 2018-06-12 at 9.20.07 PM.png  \n",
            "  inflating: __MACOSX/data/fruits/train/rottenbanana/._Screen Shot 2018-06-12 at 9.20.07 PM.png  \n",
            "  inflating: data/fruits/train/rottenbanana/Screen Shot 2018-06-12 at 9.06.27 PM.png  \n",
            "  inflating: __MACOSX/data/fruits/train/rottenbanana/._Screen Shot 2018-06-12 at 9.06.27 PM.png  \n",
            "  inflating: data/fruits/train/rottenbanana/Screen Shot 2018-06-12 at 9.18.07 PM.png  \n",
            "  inflating: __MACOSX/data/fruits/train/rottenbanana/._Screen Shot 2018-06-12 at 9.18.07 PM.png  \n",
            "  inflating: data/fruits/train/rottenbanana/Screen Shot 2018-06-12 at 9.10.10 PM.png  \n",
            "  inflating: __MACOSX/data/fruits/train/rottenbanana/._Screen Shot 2018-06-12 at 9.10.10 PM.png  \n",
            "  inflating: data/fruits/train/rottenbanana/Screen Shot 2018-06-12 at 9.10.45 PM.png  \n",
            "  inflating: __MACOSX/data/fruits/train/rottenbanana/._Screen Shot 2018-06-12 at 9.10.45 PM.png  \n",
            "  inflating: data/fruits/train/rottenbanana/Screen Shot 2018-06-12 at 9.26.21 PM.png  \n",
            "  inflating: __MACOSX/data/fruits/train/rottenbanana/._Screen Shot 2018-06-12 at 9.26.21 PM.png  \n",
            "  inflating: data/fruits/train/rottenbanana/Screen Shot 2018-06-12 at 8.56.54 PM.png  \n",
            "  inflating: __MACOSX/data/fruits/train/rottenbanana/._Screen Shot 2018-06-12 at 8.56.54 PM.png  \n",
            "  inflating: data/fruits/train/rottenbanana/Screen Shot 2018-06-12 at 8.56.37 PM.png  \n",
            "  inflating: __MACOSX/data/fruits/train/rottenbanana/._Screen Shot 2018-06-12 at 8.56.37 PM.png  \n",
            "  inflating: data/fruits/train/rottenbanana/Screen Shot 2018-06-12 at 8.51.21 PM.png  \n",
            "  inflating: __MACOSX/data/fruits/train/rottenbanana/._Screen Shot 2018-06-12 at 8.51.21 PM.png  \n",
            "  inflating: data/fruits/train/rottenbanana/Screen Shot 2018-06-12 at 9.14.48 PM.png  \n",
            "  inflating: __MACOSX/data/fruits/train/rottenbanana/._Screen Shot 2018-06-12 at 9.14.48 PM.png  \n",
            "  inflating: data/fruits/train/rottenbanana/Screen Shot 2018-06-12 at 9.18.50 PM.png  \n",
            "  inflating: __MACOSX/data/fruits/train/rottenbanana/._Screen Shot 2018-06-12 at 9.18.50 PM.png  \n",
            "  inflating: data/fruits/train/rottenbanana/Screen Shot 2018-06-12 at 9.03.51 PM.png  \n",
            "  inflating: __MACOSX/data/fruits/train/rottenbanana/._Screen Shot 2018-06-12 at 9.03.51 PM.png  \n",
            "  inflating: data/fruits/train/rottenbanana/Screen Shot 2018-06-12 at 9.16.34 PM.png  \n",
            "  inflating: __MACOSX/data/fruits/train/rottenbanana/._Screen Shot 2018-06-12 at 9.16.34 PM.png  \n",
            "  inflating: data/fruits/train/rottenbanana/Screen Shot 2018-06-12 at 9.06.13 PM.png  \n",
            "  inflating: __MACOSX/data/fruits/train/rottenbanana/._Screen Shot 2018-06-12 at 9.06.13 PM.png  \n",
            "  inflating: data/fruits/train/rottenbanana/Screen Shot 2018-06-12 at 9.19.35 PM.png  \n",
            "  inflating: __MACOSX/data/fruits/train/rottenbanana/._Screen Shot 2018-06-12 at 9.19.35 PM.png  \n",
            "  inflating: data/fruits/train/rottenbanana/Screen Shot 2018-06-12 at 9.23.10 PM.png  \n",
            "  inflating: __MACOSX/data/fruits/train/rottenbanana/._Screen Shot 2018-06-12 at 9.23.10 PM.png  \n",
            "  inflating: data/fruits/train/rottenbanana/Screen Shot 2018-06-12 at 9.19.03 PM.png  \n",
            "  inflating: __MACOSX/data/fruits/train/rottenbanana/._Screen Shot 2018-06-12 at 9.19.03 PM.png  \n",
            "  inflating: data/fruits/train/rottenbanana/Screen Shot 2018-06-12 at 9.23.15 PM.png  \n",
            "  inflating: __MACOSX/data/fruits/train/rottenbanana/._Screen Shot 2018-06-12 at 9.23.15 PM.png  \n",
            "  inflating: data/fruits/train/rottenbanana/Screen Shot 2018-06-12 at 8.53.37 PM.png  \n",
            "  inflating: __MACOSX/data/fruits/train/rottenbanana/._Screen Shot 2018-06-12 at 8.53.37 PM.png  \n",
            "  inflating: data/fruits/train/rottenbanana/Screen Shot 2018-06-12 at 9.11.27 PM.png  \n",
            "  inflating: __MACOSX/data/fruits/train/rottenbanana/._Screen Shot 2018-06-12 at 9.11.27 PM.png  \n",
            "  inflating: data/fruits/train/rottenbanana/Screen Shot 2018-06-12 at 8.53.54 PM.png  \n",
            "  inflating: __MACOSX/data/fruits/train/rottenbanana/._Screen Shot 2018-06-12 at 8.53.54 PM.png  \n",
            "  inflating: data/fruits/train/rottenbanana/Screen Shot 2018-06-12 at 9.12.32 PM.png  \n",
            "  inflating: __MACOSX/data/fruits/train/rottenbanana/._Screen Shot 2018-06-12 at 9.12.32 PM.png  \n",
            "  inflating: data/fruits/train/rottenbanana/Screen Shot 2018-06-12 at 9.02.15 PM.png  \n",
            "  inflating: __MACOSX/data/fruits/train/rottenbanana/._Screen Shot 2018-06-12 at 9.02.15 PM.png  \n",
            "  inflating: data/fruits/train/rottenbanana/Screen Shot 2018-06-12 at 9.28.09 PM.png  \n",
            "  inflating: __MACOSX/data/fruits/train/rottenbanana/._Screen Shot 2018-06-12 at 9.28.09 PM.png  \n",
            "  inflating: data/fruits/train/rottenbanana/Screen Shot 2018-06-12 at 9.03.46 PM.png  \n",
            "  inflating: __MACOSX/data/fruits/train/rottenbanana/._Screen Shot 2018-06-12 at 9.03.46 PM.png  \n",
            "  inflating: data/fruits/train/rottenbanana/Screen Shot 2018-06-12 at 9.03.25 PM.png  \n",
            "  inflating: __MACOSX/data/fruits/train/rottenbanana/._Screen Shot 2018-06-12 at 9.03.25 PM.png  \n",
            "  inflating: data/fruits/train/rottenbanana/Screen Shot 2018-06-12 at 9.22.13 PM.png  \n",
            "  inflating: __MACOSX/data/fruits/train/rottenbanana/._Screen Shot 2018-06-12 at 9.22.13 PM.png  \n",
            "  inflating: data/fruits/train/rottenbanana/Screen Shot 2018-06-12 at 9.04.19 PM.png  \n",
            "  inflating: __MACOSX/data/fruits/train/rottenbanana/._Screen Shot 2018-06-12 at 9.04.19 PM.png  \n",
            "  inflating: data/fruits/train/rottenbanana/Screen Shot 2018-06-12 at 8.56.30 PM.png  \n",
            "  inflating: __MACOSX/data/fruits/train/rottenbanana/._Screen Shot 2018-06-12 at 8.56.30 PM.png  \n",
            "  inflating: data/fruits/train/rottenbanana/Screen Shot 2018-06-12 at 8.52.42 PM.png  \n",
            "  inflating: __MACOSX/data/fruits/train/rottenbanana/._Screen Shot 2018-06-12 at 8.52.42 PM.png  \n",
            "  inflating: data/fruits/train/rottenbanana/Screen Shot 2018-06-12 at 8.56.06 PM.png  \n",
            "  inflating: __MACOSX/data/fruits/train/rottenbanana/._Screen Shot 2018-06-12 at 8.56.06 PM.png  \n",
            "  inflating: data/fruits/train/rottenbanana/Screen Shot 2018-06-12 at 8.58.01 PM.png  \n",
            "  inflating: __MACOSX/data/fruits/train/rottenbanana/._Screen Shot 2018-06-12 at 8.58.01 PM.png  \n",
            "  inflating: data/fruits/train/rottenbanana/Screen Shot 2018-06-12 at 9.02.09 PM.png  \n",
            "  inflating: __MACOSX/data/fruits/train/rottenbanana/._Screen Shot 2018-06-12 at 9.02.09 PM.png  \n",
            "  inflating: data/fruits/train/rottenbanana/Screen Shot 2018-06-12 at 9.04.56 PM.png  \n",
            "  inflating: __MACOSX/data/fruits/train/rottenbanana/._Screen Shot 2018-06-12 at 9.04.56 PM.png  \n",
            "  inflating: data/fruits/train/rottenbanana/Screen Shot 2018-06-12 at 9.03.40 PM.png  \n",
            "  inflating: __MACOSX/data/fruits/train/rottenbanana/._Screen Shot 2018-06-12 at 9.03.40 PM.png  \n",
            "  inflating: data/fruits/train/rottenbanana/Screen Shot 2018-06-12 at 8.55.21 PM.png  \n",
            "  inflating: __MACOSX/data/fruits/train/rottenbanana/._Screen Shot 2018-06-12 at 8.55.21 PM.png  \n",
            "  inflating: data/fruits/train/rottenbanana/Screen Shot 2018-06-12 at 9.17.19 PM.png  \n",
            "  inflating: __MACOSX/data/fruits/train/rottenbanana/._Screen Shot 2018-06-12 at 9.17.19 PM.png  \n",
            "  inflating: data/fruits/train/rottenbanana/Screen Shot 2018-06-12 at 8.51.30 PM.png  \n",
            "  inflating: __MACOSX/data/fruits/train/rottenbanana/._Screen Shot 2018-06-12 at 8.51.30 PM.png  \n",
            "  inflating: data/fruits/train/rottenbanana/Screen Shot 2018-06-12 at 9.11.17 PM.png  \n",
            "  inflating: __MACOSX/data/fruits/train/rottenbanana/._Screen Shot 2018-06-12 at 9.11.17 PM.png  \n",
            "  inflating: data/fruits/train/rottenbanana/Screen Shot 2018-06-12 at 9.11.05 PM.png  \n",
            "  inflating: __MACOSX/data/fruits/train/rottenbanana/._Screen Shot 2018-06-12 at 9.11.05 PM.png  \n",
            "  inflating: data/fruits/train/rottenbanana/Screen Shot 2018-06-12 at 9.20.14 PM.png  \n",
            "  inflating: __MACOSX/data/fruits/train/rottenbanana/._Screen Shot 2018-06-12 at 9.20.14 PM.png  \n",
            "  inflating: data/fruits/train/rottenbanana/Screen Shot 2018-06-12 at 8.57.04 PM.png  \n",
            "  inflating: __MACOSX/data/fruits/train/rottenbanana/._Screen Shot 2018-06-12 at 8.57.04 PM.png  \n",
            "  inflating: data/fruits/train/rottenbanana/Screen Shot 2018-06-12 at 8.57.22 PM.png  \n",
            "  inflating: __MACOSX/data/fruits/train/rottenbanana/._Screen Shot 2018-06-12 at 8.57.22 PM.png  \n",
            "  inflating: data/fruits/train/rottenbanana/Screen Shot 2018-06-12 at 9.02.03 PM.png  \n",
            "  inflating: __MACOSX/data/fruits/train/rottenbanana/._Screen Shot 2018-06-12 at 9.02.03 PM.png  \n",
            "  inflating: data/fruits/train/rottenbanana/Screen Shot 2018-06-12 at 9.01.32 PM.png  \n",
            "  inflating: __MACOSX/data/fruits/train/rottenbanana/._Screen Shot 2018-06-12 at 9.01.32 PM.png  \n",
            "  inflating: data/fruits/train/rottenbanana/Screen Shot 2018-06-12 at 8.54.37 PM.png  \n",
            "  inflating: __MACOSX/data/fruits/train/rottenbanana/._Screen Shot 2018-06-12 at 8.54.37 PM.png  \n",
            "  inflating: data/fruits/train/rottenbanana/Screen Shot 2018-06-12 at 8.53.42 PM.png  \n",
            "  inflating: __MACOSX/data/fruits/train/rottenbanana/._Screen Shot 2018-06-12 at 8.53.42 PM.png  \n",
            "  inflating: data/fruits/train/rottenbanana/Screen Shot 2018-06-12 at 9.02.44 PM.png  \n",
            "  inflating: __MACOSX/data/fruits/train/rottenbanana/._Screen Shot 2018-06-12 at 9.02.44 PM.png  \n",
            "  inflating: data/fruits/train/rottenbanana/Screen Shot 2018-06-12 at 9.03.21 PM.png  \n",
            "  inflating: __MACOSX/data/fruits/train/rottenbanana/._Screen Shot 2018-06-12 at 9.03.21 PM.png  \n",
            "  inflating: data/fruits/train/rottenbanana/Screen Shot 2018-06-12 at 9.10.37 PM.png  \n",
            "  inflating: __MACOSX/data/fruits/train/rottenbanana/._Screen Shot 2018-06-12 at 9.10.37 PM.png  \n",
            "  inflating: data/fruits/train/rottenbanana/Screen Shot 2018-06-12 at 9.18.43 PM.png  \n",
            "  inflating: __MACOSX/data/fruits/train/rottenbanana/._Screen Shot 2018-06-12 at 9.18.43 PM.png  \n",
            "  inflating: data/fruits/train/rottenbanana/Screen Shot 2018-06-12 at 8.52.48 PM.png  \n",
            "  inflating: __MACOSX/data/fruits/train/rottenbanana/._Screen Shot 2018-06-12 at 8.52.48 PM.png  \n",
            "  inflating: data/fruits/train/rottenbanana/Screen Shot 2018-06-12 at 8.56.59 PM.png  \n",
            "  inflating: __MACOSX/data/fruits/train/rottenbanana/._Screen Shot 2018-06-12 at 8.56.59 PM.png  \n",
            "  inflating: data/fruits/train/rottenbanana/Screen Shot 2018-06-12 at 9.03.17 PM.png  \n",
            "  inflating: __MACOSX/data/fruits/train/rottenbanana/._Screen Shot 2018-06-12 at 9.03.17 PM.png  \n",
            "  inflating: data/fruits/train/freshoranges/Screen Shot 2018-06-13 at 12.16.16 AM.png  \n",
            "  inflating: __MACOSX/data/fruits/train/freshoranges/._Screen Shot 2018-06-13 at 12.16.16 AM.png  \n",
            "  inflating: data/fruits/train/freshoranges/Screen Shot 2018-06-12 at 11.51.02 PM.png  \n",
            "  inflating: __MACOSX/data/fruits/train/freshoranges/._Screen Shot 2018-06-12 at 11.51.02 PM.png  \n",
            "  inflating: data/fruits/train/freshoranges/Screen Shot 2018-06-13 at 12.07.46 AM.png  \n",
            "  inflating: __MACOSX/data/fruits/train/freshoranges/._Screen Shot 2018-06-13 at 12.07.46 AM.png  \n",
            "  inflating: data/fruits/train/freshoranges/Screen Shot 2018-06-13 at 12.04.51 AM.png  \n",
            "  inflating: __MACOSX/data/fruits/train/freshoranges/._Screen Shot 2018-06-13 at 12.04.51 AM.png  \n",
            "  inflating: data/fruits/train/freshoranges/Screen Shot 2018-06-13 at 12.07.39 AM.png  \n",
            "  inflating: __MACOSX/data/fruits/train/freshoranges/._Screen Shot 2018-06-13 at 12.07.39 AM.png  \n",
            "  inflating: data/fruits/train/freshoranges/Screen Shot 2018-06-13 at 12.09.43 AM.png  \n",
            "  inflating: __MACOSX/data/fruits/train/freshoranges/._Screen Shot 2018-06-13 at 12.09.43 AM.png  \n",
            "  inflating: data/fruits/train/freshoranges/Screen Shot 2018-06-13 at 12.09.32 AM.png  \n",
            "  inflating: __MACOSX/data/fruits/train/freshoranges/._Screen Shot 2018-06-13 at 12.09.32 AM.png  \n",
            "  inflating: data/fruits/train/freshoranges/Screen Shot 2018-06-13 at 12.02.53 AM.png  \n",
            "  inflating: __MACOSX/data/fruits/train/freshoranges/._Screen Shot 2018-06-13 at 12.02.53 AM.png  \n",
            "  inflating: data/fruits/train/freshoranges/Screen Shot 2018-06-13 at 12.15.01 AM.png  \n",
            "  inflating: __MACOSX/data/fruits/train/freshoranges/._Screen Shot 2018-06-13 at 12.15.01 AM.png  \n",
            "  inflating: data/fruits/train/freshoranges/Screen Shot 2018-06-13 at 12.04.12 AM.png  \n",
            "  inflating: __MACOSX/data/fruits/train/freshoranges/._Screen Shot 2018-06-13 at 12.04.12 AM.png  \n",
            "  inflating: data/fruits/train/freshoranges/Screen Shot 2018-06-13 at 12.00.35 AM.png  \n",
            "  inflating: __MACOSX/data/fruits/train/freshoranges/._Screen Shot 2018-06-13 at 12.00.35 AM.png  \n",
            "  inflating: data/fruits/train/freshoranges/Screen Shot 2018-06-12 at 11.54.35 PM.png  \n",
            "  inflating: __MACOSX/data/fruits/train/freshoranges/._Screen Shot 2018-06-12 at 11.54.35 PM.png  \n",
            "  inflating: data/fruits/train/freshoranges/Screen Shot 2018-06-12 at 11.55.05 PM.png  \n",
            "  inflating: __MACOSX/data/fruits/train/freshoranges/._Screen Shot 2018-06-12 at 11.55.05 PM.png  \n",
            "  inflating: data/fruits/train/freshoranges/Screen Shot 2018-06-13 at 12.08.58 AM.png  \n",
            "  inflating: __MACOSX/data/fruits/train/freshoranges/._Screen Shot 2018-06-13 at 12.08.58 AM.png  \n",
            "  inflating: data/fruits/train/freshoranges/Screen Shot 2018-06-12 at 11.52.16 PM.png  \n",
            "  inflating: __MACOSX/data/fruits/train/freshoranges/._Screen Shot 2018-06-12 at 11.52.16 PM.png  \n",
            "  inflating: data/fruits/train/freshoranges/Screen Shot 2018-06-12 at 11.58.24 PM.png  \n",
            "  inflating: __MACOSX/data/fruits/train/freshoranges/._Screen Shot 2018-06-12 at 11.58.24 PM.png  \n",
            "  inflating: data/fruits/train/freshoranges/Screen Shot 2018-06-12 at 11.58.28 PM.png  \n",
            "  inflating: __MACOSX/data/fruits/train/freshoranges/._Screen Shot 2018-06-12 at 11.58.28 PM.png  \n",
            "  inflating: data/fruits/train/freshoranges/Screen Shot 2018-06-13 at 12.03.01 AM.png  \n",
            "  inflating: __MACOSX/data/fruits/train/freshoranges/._Screen Shot 2018-06-13 at 12.03.01 AM.png  \n",
            "  inflating: data/fruits/train/freshoranges/Screen Shot 2018-06-13 at 12.07.10 AM.png  \n",
            "  inflating: __MACOSX/data/fruits/train/freshoranges/._Screen Shot 2018-06-13 at 12.07.10 AM.png  \n",
            "  inflating: data/fruits/train/freshoranges/Screen Shot 2018-06-13 at 12.06.28 AM.png  \n",
            "  inflating: __MACOSX/data/fruits/train/freshoranges/._Screen Shot 2018-06-13 at 12.06.28 AM.png  \n",
            "  inflating: data/fruits/train/freshoranges/Screen Shot 2018-06-13 at 12.10.27 AM.png  \n",
            "  inflating: __MACOSX/data/fruits/train/freshoranges/._Screen Shot 2018-06-13 at 12.10.27 AM.png  \n",
            "  inflating: data/fruits/train/freshoranges/Screen Shot 2018-06-13 at 12.07.32 AM.png  \n",
            "  inflating: __MACOSX/data/fruits/train/freshoranges/._Screen Shot 2018-06-13 at 12.07.32 AM.png  \n",
            "  inflating: data/fruits/train/freshoranges/Screen Shot 2018-06-12 at 11.52.12 PM.png  \n",
            "  inflating: __MACOSX/data/fruits/train/freshoranges/._Screen Shot 2018-06-12 at 11.52.12 PM.png  \n",
            "  inflating: data/fruits/train/freshoranges/Screen Shot 2018-06-12 at 11.58.43 PM.png  \n",
            "  inflating: __MACOSX/data/fruits/train/freshoranges/._Screen Shot 2018-06-12 at 11.58.43 PM.png  \n",
            "  inflating: data/fruits/train/freshapples/Screen Shot 2018-06-08 at 5.11.24 PM.png  \n",
            "  inflating: __MACOSX/data/fruits/train/freshapples/._Screen Shot 2018-06-08 at 5.11.24 PM.png  \n",
            "  inflating: data/fruits/train/freshapples/Screen Shot 2018-06-08 at 5.23.51 PM.png  \n",
            "  inflating: __MACOSX/data/fruits/train/freshapples/._Screen Shot 2018-06-08 at 5.23.51 PM.png  \n",
            "  inflating: data/fruits/train/freshapples/Screen Shot 2018-06-08 at 5.06.40 PM.png  \n",
            "  inflating: __MACOSX/data/fruits/train/freshapples/._Screen Shot 2018-06-08 at 5.06.40 PM.png  \n",
            "  inflating: data/fruits/train/freshapples/Screen Shot 2018-06-08 at 5.00.50 PM.png  \n",
            "  inflating: __MACOSX/data/fruits/train/freshapples/._Screen Shot 2018-06-08 at 5.00.50 PM.png  \n",
            "  inflating: data/fruits/train/freshapples/Screen Shot 2018-06-08 at 5.03.34 PM.png  \n",
            "  inflating: __MACOSX/data/fruits/train/freshapples/._Screen Shot 2018-06-08 at 5.03.34 PM.png  \n",
            "  inflating: data/fruits/train/freshapples/Screen Shot 2018-06-08 at 5.26.58 PM.png  \n",
            "  inflating: __MACOSX/data/fruits/train/freshapples/._Screen Shot 2018-06-08 at 5.26.58 PM.png  \n",
            "  inflating: data/fruits/train/freshapples/Screen Shot 2018-06-08 at 5.11.02 PM.png  \n",
            "  inflating: __MACOSX/data/fruits/train/freshapples/._Screen Shot 2018-06-08 at 5.11.02 PM.png  \n",
            "  inflating: data/fruits/train/freshapples/Screen Shot 2018-06-08 at 5.17.04 PM.png  \n",
            "  inflating: __MACOSX/data/fruits/train/freshapples/._Screen Shot 2018-06-08 at 5.17.04 PM.png  \n",
            "  inflating: data/fruits/train/freshapples/Screen Shot 2018-06-08 at 4.59.36 PM.png  \n",
            "  inflating: __MACOSX/data/fruits/train/freshapples/._Screen Shot 2018-06-08 at 4.59.36 PM.png  \n",
            "  inflating: data/fruits/train/freshapples/Screen Shot 2018-06-08 at 5.15.21 PM.png  \n",
            "  inflating: __MACOSX/data/fruits/train/freshapples/._Screen Shot 2018-06-08 at 5.15.21 PM.png  \n",
            "  inflating: data/fruits/train/freshapples/Screen Shot 2018-06-08 at 5.19.35 PM.png  \n",
            "  inflating: __MACOSX/data/fruits/train/freshapples/._Screen Shot 2018-06-08 at 5.19.35 PM.png  \n",
            "  inflating: data/fruits/train/freshapples/Screen Shot 2018-06-08 at 5.16.49 PM.png  \n",
            "  inflating: __MACOSX/data/fruits/train/freshapples/._Screen Shot 2018-06-08 at 5.16.49 PM.png  \n",
            "  inflating: data/fruits/train/freshapples/Screen Shot 2018-06-08 at 5.28.10 PM.png  \n",
            "  inflating: __MACOSX/data/fruits/train/freshapples/._Screen Shot 2018-06-08 at 5.28.10 PM.png  \n",
            "  inflating: data/fruits/train/freshapples/Screen Shot 2018-06-08 at 5.11.16 PM.png  \n",
            "  inflating: __MACOSX/data/fruits/train/freshapples/._Screen Shot 2018-06-08 at 5.11.16 PM.png  \n",
            "  inflating: data/fruits/train/freshapples/Screen Shot 2018-06-08 at 4.59.57 PM.png  \n",
            "  inflating: __MACOSX/data/fruits/train/freshapples/._Screen Shot 2018-06-08 at 4.59.57 PM.png  \n",
            "  inflating: data/fruits/train/freshapples/Screen Shot 2018-06-08 at 5.26.05 PM.png  \n",
            "  inflating: __MACOSX/data/fruits/train/freshapples/._Screen Shot 2018-06-08 at 5.26.05 PM.png  \n",
            "  inflating: data/fruits/train/freshapples/Screen Shot 2018-06-08 at 5.22.48 PM.png  \n",
            "  inflating: __MACOSX/data/fruits/train/freshapples/._Screen Shot 2018-06-08 at 5.22.48 PM.png  \n",
            "  inflating: data/fruits/train/freshapples/Screen Shot 2018-06-08 at 5.12.41 PM.png  \n",
            "  inflating: __MACOSX/data/fruits/train/freshapples/._Screen Shot 2018-06-08 at 5.12.41 PM.png  \n",
            "  inflating: data/fruits/train/freshapples/Screen Shot 2018-06-08 at 5.20.26 PM.png  \n",
            "  inflating: __MACOSX/data/fruits/train/freshapples/._Screen Shot 2018-06-08 at 5.20.26 PM.png  \n",
            "  inflating: data/fruits/train/freshapples/Screen Shot 2018-06-08 at 5.12.14 PM.png  \n",
            "  inflating: __MACOSX/data/fruits/train/freshapples/._Screen Shot 2018-06-08 at 5.12.14 PM.png  \n",
            "  inflating: data/fruits/train/freshapples/Screen Shot 2018-06-08 at 5.21.22 PM.png  \n",
            "  inflating: __MACOSX/data/fruits/train/freshapples/._Screen Shot 2018-06-08 at 5.21.22 PM.png  \n",
            "  inflating: data/fruits/train/freshapples/Screen Shot 2018-06-08 at 5.04.05 PM.png  \n",
            "  inflating: __MACOSX/data/fruits/train/freshapples/._Screen Shot 2018-06-08 at 5.04.05 PM.png  \n",
            "  inflating: data/fruits/train/freshapples/Screen Shot 2018-06-08 at 5.12.47 PM.png  \n",
            "  inflating: __MACOSX/data/fruits/train/freshapples/._Screen Shot 2018-06-08 at 5.12.47 PM.png  \n",
            "  inflating: data/fruits/train/freshapples/Screen Shot 2018-06-08 at 5.06.47 PM.png  \n",
            "  inflating: __MACOSX/data/fruits/train/freshapples/._Screen Shot 2018-06-08 at 5.06.47 PM.png  \n",
            "  inflating: data/fruits/train/freshapples/Screen Shot 2018-06-08 at 5.29.07 PM.png  \n",
            "  inflating: __MACOSX/data/fruits/train/freshapples/._Screen Shot 2018-06-08 at 5.29.07 PM.png  \n",
            "  inflating: data/fruits/train/freshapples/Screen Shot 2018-06-08 at 5.34.14 PM.png  \n",
            "  inflating: __MACOSX/data/fruits/train/freshapples/._Screen Shot 2018-06-08 at 5.34.14 PM.png  \n",
            "  inflating: data/fruits/train/rottenoranges/Screen Shot 2018-06-12 at 11.29.03 PM.png  \n",
            "  inflating: __MACOSX/data/fruits/train/rottenoranges/._Screen Shot 2018-06-12 at 11.29.03 PM.png  \n",
            "  inflating: data/fruits/train/rottenoranges/Screen Shot 2018-06-12 at 11.18.28 PM.png  \n",
            "  inflating: __MACOSX/data/fruits/train/rottenoranges/._Screen Shot 2018-06-12 at 11.18.28 PM.png  \n",
            "  inflating: data/fruits/train/rottenoranges/Screen Shot 2018-06-12 at 11.19.22 PM.png  \n",
            "  inflating: __MACOSX/data/fruits/train/rottenoranges/._Screen Shot 2018-06-12 at 11.19.22 PM.png  \n",
            "  inflating: data/fruits/train/rottenoranges/Screen Shot 2018-06-12 at 11.30.11 PM.png  \n",
            "  inflating: __MACOSX/data/fruits/train/rottenoranges/._Screen Shot 2018-06-12 at 11.30.11 PM.png  \n",
            "  inflating: data/fruits/train/rottenoranges/Screen Shot 2018-06-12 at 11.28.50 PM.png  \n",
            "  inflating: __MACOSX/data/fruits/train/rottenoranges/._Screen Shot 2018-06-12 at 11.28.50 PM.png  \n",
            "  inflating: data/fruits/train/rottenoranges/Screen Shot 2018-06-12 at 11.46.17 PM.png  \n",
            "  inflating: __MACOSX/data/fruits/train/rottenoranges/._Screen Shot 2018-06-12 at 11.46.17 PM.png  \n",
            "  inflating: data/fruits/train/rottenoranges/Screen Shot 2018-06-12 at 11.34.00 PM.png  \n",
            "  inflating: __MACOSX/data/fruits/train/rottenoranges/._Screen Shot 2018-06-12 at 11.34.00 PM.png  \n",
            "  inflating: data/fruits/train/rottenoranges/Screen Shot 2018-06-12 at 11.37.31 PM.png  \n",
            "  inflating: __MACOSX/data/fruits/train/rottenoranges/._Screen Shot 2018-06-12 at 11.37.31 PM.png  \n",
            "  inflating: data/fruits/train/rottenoranges/Screen Shot 2018-06-12 at 11.27.30 PM.png  \n",
            "  inflating: __MACOSX/data/fruits/train/rottenoranges/._Screen Shot 2018-06-12 at 11.27.30 PM.png  \n",
            "  inflating: data/fruits/train/rottenoranges/Screen Shot 2018-06-12 at 11.23.09 PM.png  \n",
            "  inflating: __MACOSX/data/fruits/train/rottenoranges/._Screen Shot 2018-06-12 at 11.23.09 PM.png  \n",
            "  inflating: data/fruits/train/rottenoranges/Screen Shot 2018-06-12 at 11.19.08 PM.png  \n",
            "  inflating: __MACOSX/data/fruits/train/rottenoranges/._Screen Shot 2018-06-12 at 11.19.08 PM.png  \n",
            "  inflating: data/fruits/train/rottenoranges/Screen Shot 2018-06-12 at 11.42.20 PM.png  \n",
            "  inflating: __MACOSX/data/fruits/train/rottenoranges/._Screen Shot 2018-06-12 at 11.42.20 PM.png  \n",
            "  inflating: data/fruits/train/rottenoranges/Screen Shot 2018-06-12 at 11.24.37 PM.png  \n",
            "  inflating: __MACOSX/data/fruits/train/rottenoranges/._Screen Shot 2018-06-12 at 11.24.37 PM.png  \n",
            "  inflating: data/fruits/train/rottenoranges/Screen Shot 2018-06-12 at 11.19.16 PM.png  \n",
            "  inflating: __MACOSX/data/fruits/train/rottenoranges/._Screen Shot 2018-06-12 at 11.19.16 PM.png  \n",
            "  inflating: data/fruits/train/rottenoranges/Screen Shot 2018-06-12 at 11.31.52 PM.png  \n",
            "  inflating: __MACOSX/data/fruits/train/rottenoranges/._Screen Shot 2018-06-12 at 11.31.52 PM.png  \n",
            "  inflating: data/fruits/train/rottenoranges/Screen Shot 2018-06-12 at 11.36.35 PM.png  \n",
            "  inflating: __MACOSX/data/fruits/train/rottenoranges/._Screen Shot 2018-06-12 at 11.36.35 PM.png  \n",
            "  inflating: data/fruits/train/rottenoranges/Screen Shot 2018-06-12 at 11.44.06 PM.png  \n",
            "  inflating: __MACOSX/data/fruits/train/rottenoranges/._Screen Shot 2018-06-12 at 11.44.06 PM.png  \n",
            "  inflating: data/fruits/train/rottenoranges/Screen Shot 2018-06-12 at 11.29.58 PM.png  \n",
            "  inflating: __MACOSX/data/fruits/train/rottenoranges/._Screen Shot 2018-06-12 at 11.29.58 PM.png  \n",
            "  inflating: data/fruits/train/rottenoranges/Screen Shot 2018-06-12 at 11.25.07 PM.png  \n",
            "  inflating: __MACOSX/data/fruits/train/rottenoranges/._Screen Shot 2018-06-12 at 11.25.07 PM.png  \n",
            "  inflating: data/fruits/train/rottenoranges/Screen Shot 2018-06-12 at 11.37.25 PM.png  \n",
            "  inflating: __MACOSX/data/fruits/train/rottenoranges/._Screen Shot 2018-06-12 at 11.37.25 PM.png  \n",
            "  inflating: data/fruits/train/rottenoranges/Screen Shot 2018-06-12 at 11.23.54 PM.png  \n",
            "  inflating: __MACOSX/data/fruits/train/rottenoranges/._Screen Shot 2018-06-12 at 11.23.54 PM.png  \n",
            "  inflating: data/fruits/train/rottenoranges/Screen Shot 2018-06-12 at 11.37.58 PM.png  \n",
            "  inflating: __MACOSX/data/fruits/train/rottenoranges/._Screen Shot 2018-06-12 at 11.37.58 PM.png  \n",
            "  inflating: data/fruits/train/rottenoranges/Screen Shot 2018-06-12 at 11.46.56 PM.png  \n",
            "  inflating: __MACOSX/data/fruits/train/rottenoranges/._Screen Shot 2018-06-12 at 11.46.56 PM.png  \n",
            "  inflating: data/fruits/train/rottenoranges/Screen Shot 2018-06-12 at 11.27.26 PM.png  \n",
            "  inflating: __MACOSX/data/fruits/train/rottenoranges/._Screen Shot 2018-06-12 at 11.27.26 PM.png  \n",
            "  inflating: data/fruits/train/rottenoranges/Screen Shot 2018-06-12 at 11.41.52 PM.png  \n",
            "  inflating: __MACOSX/data/fruits/train/rottenoranges/._Screen Shot 2018-06-12 at 11.41.52 PM.png  \n",
            "  inflating: data/fruits/train/rottenoranges/Screen Shot 2018-06-12 at 11.23.13 PM.png  \n",
            "  inflating: __MACOSX/data/fruits/train/rottenoranges/._Screen Shot 2018-06-12 at 11.23.13 PM.png  \n",
            "  inflating: data/fruits/train/rottenoranges/Screen Shot 2018-06-12 at 11.27.38 PM.png  \n",
            "  inflating: __MACOSX/data/fruits/train/rottenoranges/._Screen Shot 2018-06-12 at 11.27.38 PM.png  \n",
            "  inflating: data/fruits/train/rottenoranges/Screen Shot 2018-06-12 at 11.20.30 PM.png  \n",
            "  inflating: __MACOSX/data/fruits/train/rottenoranges/._Screen Shot 2018-06-12 at 11.20.30 PM.png  \n",
            "  inflating: data/fruits/train/rottenoranges/Screen Shot 2018-06-12 at 11.35.59 PM.png  \n",
            "  inflating: __MACOSX/data/fruits/train/rottenoranges/._Screen Shot 2018-06-12 at 11.35.59 PM.png  \n",
            "  inflating: data/fruits/train/rottenoranges/Screen Shot 2018-06-12 at 11.35.55 PM.png  \n",
            "  inflating: __MACOSX/data/fruits/train/rottenoranges/._Screen Shot 2018-06-12 at 11.35.55 PM.png  \n",
            "  inflating: data/fruits/train/rottenoranges/Screen Shot 2018-06-12 at 11.25.11 PM.png  \n",
            "  inflating: __MACOSX/data/fruits/train/rottenoranges/._Screen Shot 2018-06-12 at 11.25.11 PM.png  \n",
            "  inflating: data/fruits/train/rottenoranges/Screen Shot 2018-06-12 at 11.32.04 PM.png  \n",
            "  inflating: __MACOSX/data/fruits/train/rottenoranges/._Screen Shot 2018-06-12 at 11.32.04 PM.png  \n",
            "  inflating: data/fruits/train/rottenoranges/Screen Shot 2018-06-12 at 11.31.48 PM.png  \n",
            "  inflating: __MACOSX/data/fruits/train/rottenoranges/._Screen Shot 2018-06-12 at 11.31.48 PM.png  \n",
            "  inflating: data/fruits/train/rottenoranges/Screen Shot 2018-06-12 at 11.44.34 PM.png  \n",
            "  inflating: __MACOSX/data/fruits/train/rottenoranges/._Screen Shot 2018-06-12 at 11.44.34 PM.png  \n",
            "  inflating: data/fruits/train/rottenoranges/Screen Shot 2018-06-12 at 11.36.31 PM.png  \n",
            "  inflating: __MACOSX/data/fruits/train/rottenoranges/._Screen Shot 2018-06-12 at 11.36.31 PM.png  \n",
            "  inflating: data/fruits/train/rottenoranges/Screen Shot 2018-06-12 at 11.31.44 PM.png  \n",
            "  inflating: __MACOSX/data/fruits/train/rottenoranges/._Screen Shot 2018-06-12 at 11.31.44 PM.png  \n",
            "  inflating: data/fruits/train/rottenoranges/Screen Shot 2018-06-12 at 11.38.34 PM.png  \n",
            "  inflating: __MACOSX/data/fruits/train/rottenoranges/._Screen Shot 2018-06-12 at 11.38.34 PM.png  \n",
            "  inflating: data/fruits/train/rottenoranges/Screen Shot 2018-06-12 at 11.33.55 PM.png  \n",
            "  inflating: __MACOSX/data/fruits/train/rottenoranges/._Screen Shot 2018-06-12 at 11.33.55 PM.png  \n",
            "  inflating: data/fruits/train/rottenoranges/Screen Shot 2018-06-12 at 11.33.50 PM.png  \n",
            "  inflating: __MACOSX/data/fruits/train/rottenoranges/._Screen Shot 2018-06-12 at 11.33.50 PM.png  \n",
            "  inflating: data/fruits/train/rottenoranges/Screen Shot 2018-06-12 at 11.38.19 PM.png  \n",
            "  inflating: __MACOSX/data/fruits/train/rottenoranges/._Screen Shot 2018-06-12 at 11.38.19 PM.png  \n",
            "  inflating: data/fruits/train/rottenoranges/Screen Shot 2018-06-12 at 11.18.46 PM.png  \n",
            "  inflating: __MACOSX/data/fruits/train/rottenoranges/._Screen Shot 2018-06-12 at 11.18.46 PM.png  \n",
            "  inflating: data/fruits/train/rottenoranges/Screen Shot 2018-06-12 at 11.26.44 PM.png  \n",
            "  inflating: __MACOSX/data/fruits/train/rottenoranges/._Screen Shot 2018-06-12 at 11.26.44 PM.png  \n",
            "  inflating: data/fruits/train/rottenoranges/Screen Shot 2018-06-12 at 11.40.18 PM.png  \n",
            "  inflating: __MACOSX/data/fruits/train/rottenoranges/._Screen Shot 2018-06-12 at 11.40.18 PM.png  \n",
            "  inflating: data/fruits/train/rottenoranges/Screen Shot 2018-06-12 at 11.39.29 PM.png  \n",
            "  inflating: __MACOSX/data/fruits/train/rottenoranges/._Screen Shot 2018-06-12 at 11.39.29 PM.png  \n",
            "  inflating: data/fruits/train/rottenoranges/Screen Shot 2018-06-12 at 11.40.51 PM.png  \n",
            "  inflating: __MACOSX/data/fruits/train/rottenoranges/._Screen Shot 2018-06-12 at 11.40.51 PM.png  \n",
            "  inflating: data/fruits/train/rottenoranges/Screen Shot 2018-06-12 at 11.21.05 PM.png  \n",
            "  inflating: __MACOSX/data/fruits/train/rottenoranges/._Screen Shot 2018-06-12 at 11.21.05 PM.png  \n",
            "  inflating: data/fruits/train/rottenoranges/Screen Shot 2018-06-12 at 11.21.17 PM.png  \n",
            "  inflating: __MACOSX/data/fruits/train/rottenoranges/._Screen Shot 2018-06-12 at 11.21.17 PM.png  \n",
            "  inflating: data/fruits/train/rottenoranges/Screen Shot 2018-06-12 at 11.33.23 PM.png  \n",
            "  inflating: __MACOSX/data/fruits/train/rottenoranges/._Screen Shot 2018-06-12 at 11.33.23 PM.png  \n",
            "  inflating: data/fruits/train/rottenoranges/Screen Shot 2018-06-12 at 11.41.26 PM.png  \n",
            "  inflating: __MACOSX/data/fruits/train/rottenoranges/._Screen Shot 2018-06-12 at 11.41.26 PM.png  \n",
            "  inflating: data/fruits/train/rottenoranges/Screen Shot 2018-06-12 at 11.47.08 PM.png  \n",
            "  inflating: __MACOSX/data/fruits/train/rottenoranges/._Screen Shot 2018-06-12 at 11.47.08 PM.png  \n",
            "  inflating: data/fruits/train/rottenoranges/Screen Shot 2018-06-12 at 11.36.06 PM.png  \n",
            "  inflating: __MACOSX/data/fruits/train/rottenoranges/._Screen Shot 2018-06-12 at 11.36.06 PM.png  \n",
            "  inflating: data/fruits/train/rottenoranges/Screen Shot 2018-06-12 at 11.40.36 PM.png  \n",
            "  inflating: __MACOSX/data/fruits/train/rottenoranges/._Screen Shot 2018-06-12 at 11.40.36 PM.png  \n",
            "  inflating: data/fruits/train/rottenoranges/Screen Shot 2018-06-12 at 11.32.50 PM.png  \n",
            "  inflating: __MACOSX/data/fruits/train/rottenoranges/._Screen Shot 2018-06-12 at 11.32.50 PM.png  \n",
            "  inflating: data/fruits/train/rottenoranges/Screen Shot 2018-06-12 at 11.20.40 PM.png  \n",
            "  inflating: __MACOSX/data/fruits/train/rottenoranges/._Screen Shot 2018-06-12 at 11.20.40 PM.png  \n",
            "  inflating: data/fruits/train/rottenoranges/Screen Shot 2018-06-12 at 11.30.16 PM.png  \n",
            "  inflating: __MACOSX/data/fruits/train/rottenoranges/._Screen Shot 2018-06-12 at 11.30.16 PM.png  \n",
            "  inflating: data/fruits/train/rottenoranges/Screen Shot 2018-06-12 at 11.20.52 PM.png  \n",
            "  inflating: __MACOSX/data/fruits/train/rottenoranges/._Screen Shot 2018-06-12 at 11.20.52 PM.png  \n",
            "  inflating: data/fruits/train/rottenoranges/Screen Shot 2018-06-12 at 11.24.51 PM.png  \n",
            "  inflating: __MACOSX/data/fruits/train/rottenoranges/._Screen Shot 2018-06-12 at 11.24.51 PM.png  \n",
            "  inflating: data/fruits/train/rottenoranges/Screen Shot 2018-06-12 at 11.24.43 PM.png  \n",
            "  inflating: __MACOSX/data/fruits/train/rottenoranges/._Screen Shot 2018-06-12 at 11.24.43 PM.png  \n",
            "  inflating: data/fruits/train/rottenoranges/Screen Shot 2018-06-12 at 11.30.06 PM.png  \n",
            "  inflating: __MACOSX/data/fruits/train/rottenoranges/._Screen Shot 2018-06-12 at 11.30.06 PM.png  \n",
            "  inflating: data/fruits/train/rottenoranges/Screen Shot 2018-06-12 at 11.27.46 PM.png  \n",
            "  inflating: __MACOSX/data/fruits/train/rottenoranges/._Screen Shot 2018-06-12 at 11.27.46 PM.png  \n",
            "  inflating: data/fruits/train/rottenapples/Screen Shot 2018-06-07 at 2.18.57 PM.png  \n",
            "  inflating: __MACOSX/data/fruits/train/rottenapples/._Screen Shot 2018-06-07 at 2.18.57 PM.png  \n",
            "  inflating: data/fruits/train/rottenapples/Screen Shot 2018-06-07 at 2.43.26 PM.png  \n",
            "  inflating: __MACOSX/data/fruits/train/rottenapples/._Screen Shot 2018-06-07 at 2.43.26 PM.png  \n",
            "  inflating: data/fruits/train/rottenapples/Screen Shot 2018-06-07 at 2.47.13 PM.png  \n",
            "  inflating: __MACOSX/data/fruits/train/rottenapples/._Screen Shot 2018-06-07 at 2.47.13 PM.png  \n",
            "  inflating: data/fruits/train/rottenapples/Screen Shot 2018-06-07 at 2.57.26 PM.png  \n",
            "  inflating: __MACOSX/data/fruits/train/rottenapples/._Screen Shot 2018-06-07 at 2.57.26 PM.png  \n",
            "  inflating: data/fruits/train/rottenapples/Screen Shot 2018-06-07 at 2.38.04 PM.png  \n",
            "  inflating: __MACOSX/data/fruits/train/rottenapples/._Screen Shot 2018-06-07 at 2.38.04 PM.png  \n",
            "  inflating: data/fruits/train/rottenapples/Screen Shot 2018-06-07 at 2.56.16 PM.png  \n",
            "  inflating: __MACOSX/data/fruits/train/rottenapples/._Screen Shot 2018-06-07 at 2.56.16 PM.png  \n",
            "  inflating: data/fruits/train/rottenapples/Screen Shot 2018-06-08 at 2.48.29 PM.png  \n",
            "  inflating: __MACOSX/data/fruits/train/rottenapples/._Screen Shot 2018-06-08 at 2.48.29 PM.png  \n",
            "  inflating: data/fruits/train/rottenapples/Screen Shot 2018-06-07 at 2.59.52 PM.png  \n",
            "  inflating: __MACOSX/data/fruits/train/rottenapples/._Screen Shot 2018-06-07 at 2.59.52 PM.png  \n",
            "  inflating: data/fruits/train/rottenapples/Screen Shot 2018-06-08 at 2.25.43 PM.png  \n",
            "  inflating: __MACOSX/data/fruits/train/rottenapples/._Screen Shot 2018-06-08 at 2.25.43 PM.png  \n",
            "  inflating: data/fruits/train/rottenapples/Screen Shot 2018-06-07 at 2.34.36 PM.png  \n",
            "  inflating: __MACOSX/data/fruits/train/rottenapples/._Screen Shot 2018-06-07 at 2.34.36 PM.png  \n",
            "  inflating: data/fruits/train/rottenapples/Screen Shot 2018-06-08 at 2.47.49 PM.png  \n",
            "  inflating: __MACOSX/data/fruits/train/rottenapples/._Screen Shot 2018-06-08 at 2.47.49 PM.png  \n",
            "  inflating: data/fruits/train/rottenapples/Screen Shot 2018-06-08 at 2.26.44 PM.png  \n",
            "  inflating: __MACOSX/data/fruits/train/rottenapples/._Screen Shot 2018-06-08 at 2.26.44 PM.png  \n",
            "  inflating: data/fruits/train/rottenapples/Screen Shot 2018-06-07 at 2.47.27 PM.png  \n",
            "  inflating: __MACOSX/data/fruits/train/rottenapples/._Screen Shot 2018-06-07 at 2.47.27 PM.png  \n",
            "  inflating: data/fruits/train/rottenapples/Screen Shot 2018-06-07 at 2.17.25 PM.png  \n",
            "  inflating: __MACOSX/data/fruits/train/rottenapples/._Screen Shot 2018-06-07 at 2.17.25 PM.png  \n",
            "  inflating: data/fruits/train/rottenapples/Screen Shot 2018-06-07 at 3.05.29 PM.png  \n",
            "  inflating: __MACOSX/data/fruits/train/rottenapples/._Screen Shot 2018-06-07 at 3.05.29 PM.png  \n",
            "  inflating: data/fruits/train/rottenapples/Screen Shot 2018-06-08 at 2.52.20 PM.png  \n",
            "  inflating: __MACOSX/data/fruits/train/rottenapples/._Screen Shot 2018-06-08 at 2.52.20 PM.png  \n",
            "  inflating: data/fruits/train/rottenapples/Screen Shot 2018-06-07 at 3.05.58 PM.png  \n",
            "  inflating: __MACOSX/data/fruits/train/rottenapples/._Screen Shot 2018-06-07 at 3.05.58 PM.png  \n",
            "  inflating: data/fruits/train/rottenapples/Screen Shot 2018-06-07 at 3.06.22 PM.png  \n",
            "  inflating: __MACOSX/data/fruits/train/rottenapples/._Screen Shot 2018-06-07 at 3.06.22 PM.png  \n",
            "  inflating: data/fruits/train/rottenapples/Screen Shot 2018-06-07 at 2.37.11 PM.png  \n",
            "  inflating: __MACOSX/data/fruits/train/rottenapples/._Screen Shot 2018-06-07 at 2.37.11 PM.png  \n",
            "  inflating: data/fruits/train/rottenapples/Screen Shot 2018-06-08 at 2.48.15 PM.png  \n",
            "  inflating: __MACOSX/data/fruits/train/rottenapples/._Screen Shot 2018-06-08 at 2.48.15 PM.png  \n",
            "  inflating: data/fruits/train/rottenapples/Screen Shot 2018-06-08 at 2.34.05 PM.png  \n",
            "  inflating: __MACOSX/data/fruits/train/rottenapples/._Screen Shot 2018-06-08 at 2.34.05 PM.png  \n",
            "  inflating: data/fruits/train/rottenapples/Screen Shot 2018-06-07 at 2.52.44 PM.png  \n",
            "  inflating: __MACOSX/data/fruits/train/rottenapples/._Screen Shot 2018-06-07 at 2.52.44 PM.png  \n",
            "  inflating: data/fruits/train/rottenapples/Screen Shot 2018-06-07 at 2.56.09 PM.png  \n",
            "  inflating: __MACOSX/data/fruits/train/rottenapples/._Screen Shot 2018-06-07 at 2.56.09 PM.png  \n",
            "  inflating: data/fruits/train/rottenapples/Screen Shot 2018-06-08 at 2.48.00 PM.png  \n",
            "  inflating: __MACOSX/data/fruits/train/rottenapples/._Screen Shot 2018-06-08 at 2.48.00 PM.png  \n",
            "  inflating: data/fruits/train/rottenapples/Screen Shot 2018-06-07 at 2.43.54 PM.png  \n",
            "  inflating: __MACOSX/data/fruits/train/rottenapples/._Screen Shot 2018-06-07 at 2.43.54 PM.png  \n",
            "  inflating: data/fruits/train/rottenapples/Screen Shot 2018-06-07 at 2.43.13 PM.png  \n",
            "  inflating: __MACOSX/data/fruits/train/rottenapples/._Screen Shot 2018-06-07 at 2.43.13 PM.png  \n",
            "  inflating: data/fruits/train/rottenapples/Screen Shot 2018-06-07 at 2.22.00 PM.png  \n",
            "  inflating: __MACOSX/data/fruits/train/rottenapples/._Screen Shot 2018-06-07 at 2.22.00 PM.png  \n",
            "  inflating: data/fruits/train/rottenapples/Screen Shot 2018-06-08 at 2.30.03 PM.png  \n",
            "  inflating: __MACOSX/data/fruits/train/rottenapples/._Screen Shot 2018-06-08 at 2.30.03 PM.png  \n",
            "  inflating: data/fruits/train/rottenapples/Screen Shot 2018-06-07 at 2.19.15 PM.png  \n",
            "  inflating: __MACOSX/data/fruits/train/rottenapples/._Screen Shot 2018-06-07 at 2.19.15 PM.png  \n",
            "  inflating: data/fruits/train/rottenapples/Screen Shot 2018-06-08 at 2.23.48 PM.png  \n",
            "  inflating: __MACOSX/data/fruits/train/rottenapples/._Screen Shot 2018-06-08 at 2.23.48 PM.png  \n",
            "  inflating: data/fruits/train/rottenapples/Screen Shot 2018-06-07 at 2.15.50 PM.png  \n",
            "  inflating: __MACOSX/data/fruits/train/rottenapples/._Screen Shot 2018-06-07 at 2.15.50 PM.png  \n",
            "  inflating: data/fruits/train/rottenapples/Screen Shot 2018-06-08 at 2.35.10 PM.png  \n",
            "  inflating: __MACOSX/data/fruits/train/rottenapples/._Screen Shot 2018-06-08 at 2.35.10 PM.png  \n",
            "  inflating: data/fruits/train/rottenapples/Screen Shot 2018-06-07 at 2.23.24 PM.png  \n",
            "  inflating: __MACOSX/data/fruits/train/rottenapples/._Screen Shot 2018-06-07 at 2.23.24 PM.png  \n",
            "  inflating: data/fruits/train/rottenapples/Screen Shot 2018-06-07 at 2.19.46 PM.png  \n",
            "  inflating: __MACOSX/data/fruits/train/rottenapples/._Screen Shot 2018-06-07 at 2.19.46 PM.png  \n",
            "  inflating: data/fruits/train/rottenapples/Screen Shot 2018-06-08 at 2.37.13 PM.png  \n",
            "  inflating: __MACOSX/data/fruits/train/rottenapples/._Screen Shot 2018-06-08 at 2.37.13 PM.png  \n",
            "  inflating: data/fruits/train/rottenapples/Screen Shot 2018-06-07 at 2.47.20 PM.png  \n",
            "  inflating: __MACOSX/data/fruits/train/rottenapples/._Screen Shot 2018-06-07 at 2.47.20 PM.png  \n",
            "  inflating: data/fruits/train/rottenapples/Screen Shot 2018-06-08 at 2.51.43 PM.png  \n",
            "  inflating: __MACOSX/data/fruits/train/rottenapples/._Screen Shot 2018-06-08 at 2.51.43 PM.png  \n"
          ]
        }
      ]
    },
    {
      "cell_type": "markdown",
      "metadata": {
        "id": "EcT4cGmPmNOx"
      },
      "source": [
        "## Load ImageNet Base Model"
      ]
    },
    {
      "cell_type": "markdown",
      "metadata": {
        "id": "ZjHVDbgImNOy"
      },
      "source": [
        "Start with a model pretrained on `ImageNet`. Load the model with the correct weights, set an input shape, and choose to remove the last layers of the model. Remember that images have three dimensions: a height, and width, and a number of channels. Because these pictures are in color, there will be three channels for red, green, and blue. We've filled in the input shape for you. This cannot be changed or the assessment will fail. If you need a reference for setting up the pretrained model, please take a look at [Notebook 4.2](https://github.com/harmanani/AAI612/blob/main/Week4/Notebook%204.2.ipynb) where we implemented transfer learning."
      ]
    },
    {
      "cell_type": "code",
      "execution_count": 2,
      "metadata": {
        "colab": {
          "base_uri": "https://localhost:8080/"
        },
        "id": "Zl_x2tv7mNOy",
        "outputId": "442c80f0-6c49-44e9-bc02-ff1fe5920332"
      },
      "outputs": [
        {
          "output_type": "stream",
          "name": "stdout",
          "text": [
            "Downloading data from https://storage.googleapis.com/tensorflow/keras-applications/vgg16/vgg16_weights_tf_dim_ordering_tf_kernels_notop.h5\n",
            "\u001b[1m58889256/58889256\u001b[0m \u001b[32m━━━━━━━━━━━━━━━━━━━━\u001b[0m\u001b[37m\u001b[0m \u001b[1m0s\u001b[0m 0us/step\n"
          ]
        }
      ],
      "source": [
        "import ssl\n",
        "from tensorflow import keras\n",
        "\n",
        "ssl._create_default_https_context = ssl._create_unverified_context\n",
        "\n",
        "\n",
        "base_model = keras.applications.VGG16(\n",
        "    weights='imagenet',\n",
        "    input_shape=(224, 224, 3),\n",
        "    include_top=False)\n"
      ]
    },
    {
      "cell_type": "markdown",
      "metadata": {
        "id": "8ULOQH_WmNOy"
      },
      "source": [
        "## Freeze Base Model"
      ]
    },
    {
      "cell_type": "markdown",
      "metadata": {
        "id": "XHMJyoynmNOy"
      },
      "source": [
        "Next, we suggest freezing the base model. This is done so that all the learning from the ImageNet dataset does not get destroyed in the initial training."
      ]
    },
    {
      "cell_type": "code",
      "execution_count": 3,
      "metadata": {
        "id": "b5YKMozzmNOy"
      },
      "outputs": [],
      "source": [
        "# Freeze base model\n",
        "base_model.trainable = False"
      ]
    },
    {
      "cell_type": "markdown",
      "metadata": {
        "id": "vo7VHuNtmNOy"
      },
      "source": [
        "## Add Layers to Model"
      ]
    },
    {
      "cell_type": "markdown",
      "metadata": {
        "id": "anEq-XzAmNOy"
      },
      "source": [
        "Now it's time to add layers to the pretrained model. Pay close attention to the last dense layer and make sure it has the correct number of neurons to classify the different types of fruit.  You may add more layers than specified below."
      ]
    },
    {
      "cell_type": "code",
      "execution_count": 5,
      "metadata": {
        "id": "kImAUwEHmNOy"
      },
      "outputs": [],
      "source": [
        "from tensorflow.keras.layers import Dense\n",
        "# Create inputs with correct shape\n",
        "inputs = keras.Input(shape=(224, 224, 3))\n",
        "\n",
        "x = base_model(inputs, training=False)\n",
        "\n",
        "# Add pooling layer or flatten layer\n",
        "x = keras.layers.GlobalAveragePooling2D()(x)\n",
        "x = Dense(256, activation='relu')(x)\n",
        "# Add final dense layer\n",
        "outputs = keras.layers.Dense(6, activation = 'softmax')(x)\n",
        "\n",
        "# Combine inputs and outputs to create model\n",
        "model = keras.Model(inputs, outputs)\n"
      ]
    },
    {
      "cell_type": "code",
      "execution_count": 6,
      "metadata": {
        "colab": {
          "base_uri": "https://localhost:8080/",
          "height": 305
        },
        "id": "Yc27jm4nmNOy",
        "outputId": "cffd6ed7-1e70-4663-b8bb-e8de79ab375c"
      },
      "outputs": [
        {
          "output_type": "display_data",
          "data": {
            "text/plain": [
              "\u001b[1mModel: \"functional\"\u001b[0m\n"
            ],
            "text/html": [
              "<pre style=\"white-space:pre;overflow-x:auto;line-height:normal;font-family:Menlo,'DejaVu Sans Mono',consolas,'Courier New',monospace\"><span style=\"font-weight: bold\">Model: \"functional\"</span>\n",
              "</pre>\n"
            ]
          },
          "metadata": {}
        },
        {
          "output_type": "display_data",
          "data": {
            "text/plain": [
              "┏━━━━━━━━━━━━━━━━━━━━━━━━━━━━━━━━━━━━━━┳━━━━━━━━━━━━━━━━━━━━━━━━━━━━━┳━━━━━━━━━━━━━━━━━┓\n",
              "┃\u001b[1m \u001b[0m\u001b[1mLayer (type)                        \u001b[0m\u001b[1m \u001b[0m┃\u001b[1m \u001b[0m\u001b[1mOutput Shape               \u001b[0m\u001b[1m \u001b[0m┃\u001b[1m \u001b[0m\u001b[1m        Param #\u001b[0m\u001b[1m \u001b[0m┃\n",
              "┡━━━━━━━━━━━━━━━━━━━━━━━━━━━━━━━━━━━━━━╇━━━━━━━━━━━━━━━━━━━━━━━━━━━━━╇━━━━━━━━━━━━━━━━━┩\n",
              "│ input_layer_2 (\u001b[38;5;33mInputLayer\u001b[0m)           │ (\u001b[38;5;45mNone\u001b[0m, \u001b[38;5;34m224\u001b[0m, \u001b[38;5;34m224\u001b[0m, \u001b[38;5;34m3\u001b[0m)         │               \u001b[38;5;34m0\u001b[0m │\n",
              "├──────────────────────────────────────┼─────────────────────────────┼─────────────────┤\n",
              "│ vgg16 (\u001b[38;5;33mFunctional\u001b[0m)                   │ (\u001b[38;5;45mNone\u001b[0m, \u001b[38;5;34m7\u001b[0m, \u001b[38;5;34m7\u001b[0m, \u001b[38;5;34m512\u001b[0m)           │      \u001b[38;5;34m14,714,688\u001b[0m │\n",
              "├──────────────────────────────────────┼─────────────────────────────┼─────────────────┤\n",
              "│ global_average_pooling2d_1           │ (\u001b[38;5;45mNone\u001b[0m, \u001b[38;5;34m512\u001b[0m)                 │               \u001b[38;5;34m0\u001b[0m │\n",
              "│ (\u001b[38;5;33mGlobalAveragePooling2D\u001b[0m)             │                             │                 │\n",
              "├──────────────────────────────────────┼─────────────────────────────┼─────────────────┤\n",
              "│ dense (\u001b[38;5;33mDense\u001b[0m)                        │ (\u001b[38;5;45mNone\u001b[0m, \u001b[38;5;34m256\u001b[0m)                 │         \u001b[38;5;34m131,328\u001b[0m │\n",
              "├──────────────────────────────────────┼─────────────────────────────┼─────────────────┤\n",
              "│ dense_1 (\u001b[38;5;33mDense\u001b[0m)                      │ (\u001b[38;5;45mNone\u001b[0m, \u001b[38;5;34m6\u001b[0m)                   │           \u001b[38;5;34m1,542\u001b[0m │\n",
              "└──────────────────────────────────────┴─────────────────────────────┴─────────────────┘\n"
            ],
            "text/html": [
              "<pre style=\"white-space:pre;overflow-x:auto;line-height:normal;font-family:Menlo,'DejaVu Sans Mono',consolas,'Courier New',monospace\">┏━━━━━━━━━━━━━━━━━━━━━━━━━━━━━━━━━━━━━━┳━━━━━━━━━━━━━━━━━━━━━━━━━━━━━┳━━━━━━━━━━━━━━━━━┓\n",
              "┃<span style=\"font-weight: bold\"> Layer (type)                         </span>┃<span style=\"font-weight: bold\"> Output Shape                </span>┃<span style=\"font-weight: bold\">         Param # </span>┃\n",
              "┡━━━━━━━━━━━━━━━━━━━━━━━━━━━━━━━━━━━━━━╇━━━━━━━━━━━━━━━━━━━━━━━━━━━━━╇━━━━━━━━━━━━━━━━━┩\n",
              "│ input_layer_2 (<span style=\"color: #0087ff; text-decoration-color: #0087ff\">InputLayer</span>)           │ (<span style=\"color: #00d7ff; text-decoration-color: #00d7ff\">None</span>, <span style=\"color: #00af00; text-decoration-color: #00af00\">224</span>, <span style=\"color: #00af00; text-decoration-color: #00af00\">224</span>, <span style=\"color: #00af00; text-decoration-color: #00af00\">3</span>)         │               <span style=\"color: #00af00; text-decoration-color: #00af00\">0</span> │\n",
              "├──────────────────────────────────────┼─────────────────────────────┼─────────────────┤\n",
              "│ vgg16 (<span style=\"color: #0087ff; text-decoration-color: #0087ff\">Functional</span>)                   │ (<span style=\"color: #00d7ff; text-decoration-color: #00d7ff\">None</span>, <span style=\"color: #00af00; text-decoration-color: #00af00\">7</span>, <span style=\"color: #00af00; text-decoration-color: #00af00\">7</span>, <span style=\"color: #00af00; text-decoration-color: #00af00\">512</span>)           │      <span style=\"color: #00af00; text-decoration-color: #00af00\">14,714,688</span> │\n",
              "├──────────────────────────────────────┼─────────────────────────────┼─────────────────┤\n",
              "│ global_average_pooling2d_1           │ (<span style=\"color: #00d7ff; text-decoration-color: #00d7ff\">None</span>, <span style=\"color: #00af00; text-decoration-color: #00af00\">512</span>)                 │               <span style=\"color: #00af00; text-decoration-color: #00af00\">0</span> │\n",
              "│ (<span style=\"color: #0087ff; text-decoration-color: #0087ff\">GlobalAveragePooling2D</span>)             │                             │                 │\n",
              "├──────────────────────────────────────┼─────────────────────────────┼─────────────────┤\n",
              "│ dense (<span style=\"color: #0087ff; text-decoration-color: #0087ff\">Dense</span>)                        │ (<span style=\"color: #00d7ff; text-decoration-color: #00d7ff\">None</span>, <span style=\"color: #00af00; text-decoration-color: #00af00\">256</span>)                 │         <span style=\"color: #00af00; text-decoration-color: #00af00\">131,328</span> │\n",
              "├──────────────────────────────────────┼─────────────────────────────┼─────────────────┤\n",
              "│ dense_1 (<span style=\"color: #0087ff; text-decoration-color: #0087ff\">Dense</span>)                      │ (<span style=\"color: #00d7ff; text-decoration-color: #00d7ff\">None</span>, <span style=\"color: #00af00; text-decoration-color: #00af00\">6</span>)                   │           <span style=\"color: #00af00; text-decoration-color: #00af00\">1,542</span> │\n",
              "└──────────────────────────────────────┴─────────────────────────────┴─────────────────┘\n",
              "</pre>\n"
            ]
          },
          "metadata": {}
        },
        {
          "output_type": "display_data",
          "data": {
            "text/plain": [
              "\u001b[1m Total params: \u001b[0m\u001b[38;5;34m14,847,558\u001b[0m (56.64 MB)\n"
            ],
            "text/html": [
              "<pre style=\"white-space:pre;overflow-x:auto;line-height:normal;font-family:Menlo,'DejaVu Sans Mono',consolas,'Courier New',monospace\"><span style=\"font-weight: bold\"> Total params: </span><span style=\"color: #00af00; text-decoration-color: #00af00\">14,847,558</span> (56.64 MB)\n",
              "</pre>\n"
            ]
          },
          "metadata": {}
        },
        {
          "output_type": "display_data",
          "data": {
            "text/plain": [
              "\u001b[1m Trainable params: \u001b[0m\u001b[38;5;34m132,870\u001b[0m (519.02 KB)\n"
            ],
            "text/html": [
              "<pre style=\"white-space:pre;overflow-x:auto;line-height:normal;font-family:Menlo,'DejaVu Sans Mono',consolas,'Courier New',monospace\"><span style=\"font-weight: bold\"> Trainable params: </span><span style=\"color: #00af00; text-decoration-color: #00af00\">132,870</span> (519.02 KB)\n",
              "</pre>\n"
            ]
          },
          "metadata": {}
        },
        {
          "output_type": "display_data",
          "data": {
            "text/plain": [
              "\u001b[1m Non-trainable params: \u001b[0m\u001b[38;5;34m14,714,688\u001b[0m (56.13 MB)\n"
            ],
            "text/html": [
              "<pre style=\"white-space:pre;overflow-x:auto;line-height:normal;font-family:Menlo,'DejaVu Sans Mono',consolas,'Courier New',monospace\"><span style=\"font-weight: bold\"> Non-trainable params: </span><span style=\"color: #00af00; text-decoration-color: #00af00\">14,714,688</span> (56.13 MB)\n",
              "</pre>\n"
            ]
          },
          "metadata": {}
        }
      ],
      "source": [
        "model.summary()"
      ]
    },
    {
      "cell_type": "markdown",
      "metadata": {
        "id": "9r0IUKVPmNOz"
      },
      "source": [
        "## Compile Model"
      ]
    },
    {
      "cell_type": "markdown",
      "metadata": {
        "id": "GOIUBNUtmNOz"
      },
      "source": [
        "Now it's time to compile the model with loss and metrics options. Remember that we're training on a number of different categories, rather than a binary classification problem."
      ]
    },
    {
      "cell_type": "code",
      "execution_count": 7,
      "metadata": {
        "id": "rKAiQ256mNOz"
      },
      "outputs": [],
      "source": [
        "model.compile(loss='categorical_crossentropy', metrics = ['accuracy'])"
      ]
    },
    {
      "cell_type": "markdown",
      "metadata": {
        "id": "i5E8k4yJmNOz"
      },
      "source": [
        "## Augment the Data"
      ]
    },
    {
      "cell_type": "markdown",
      "metadata": {
        "id": "Y2X0UXZQmNOz"
      },
      "source": [
        "If you'd like, try to augment the data to improve the dataset. There is also documentation for the [Keras ImageDataGenerator class](https://keras.io/api/preprocessing/image/#imagedatagenerator-class). This step is optional, but it may be helpful to get to 92% accuracy."
      ]
    },
    {
      "cell_type": "code",
      "execution_count": 8,
      "metadata": {
        "id": "Y-h5NRxgmNOz"
      },
      "outputs": [],
      "source": [
        "from tensorflow.keras.preprocessing.image import ImageDataGenerator\n",
        "\n",
        "\n",
        "datagen = ImageDataGenerator(\n",
        "        samplewise_center=True,  # set each sample mean to 0\n",
        "        rotation_range=10,  # randomly rotate images in the range (degrees, 0 to 180)\n",
        "        zoom_range = 0.1, # Randomly zoom image\n",
        "        width_shift_range=0.1,  # randomly shift images horizontally (fraction of total width)\n",
        "        height_shift_range=0.1,  # randomly shift images vertically (fraction of total height)\n",
        "        horizontal_flip=True,  # randomly flip images\n",
        "        vertical_flip=False,\n",
        "        brightness_range=[0.2,1.2])\n",
        "\n",
        "\n",
        "\n"
      ]
    },
    {
      "cell_type": "markdown",
      "metadata": {
        "id": "XVrLEKP7mNOz"
      },
      "source": [
        "## Load Dataset"
      ]
    },
    {
      "cell_type": "markdown",
      "metadata": {
        "id": "9EWHFmXrmNOz"
      },
      "source": [
        "Now it's time to load the train and validation datasets. Pick the right folders, as well as the right `target_size` of the images (it needs to match the height and width input of the model you've created)."
      ]
    },
    {
      "cell_type": "code",
      "execution_count": 9,
      "metadata": {
        "colab": {
          "base_uri": "https://localhost:8080/"
        },
        "id": "1l3de25HmNOz",
        "outputId": "92592147-5e5d-498d-9c50-b813b42982eb"
      },
      "outputs": [
        {
          "output_type": "stream",
          "name": "stdout",
          "text": [
            "Found 249 images belonging to 6 classes.\n",
            "Found 66 images belonging to 6 classes.\n"
          ]
        }
      ],
      "source": [
        "traindata = '/content/data/fruits/train'\n",
        "validdata = '/content/data/fruits/valid'\n",
        "\n",
        "\n",
        "# load and iterate training dataset\n",
        "train_it = datagen.flow_from_directory(traindata,\n",
        "                                       target_size=(224,224),\n",
        "                                       color_mode='rgb',\n",
        "                                       class_mode=\"categorical\")\n",
        "# load and iterate validation dataset\n",
        "valid_it = datagen.flow_from_directory(validdata,\n",
        "                                      target_size=(224,224),\n",
        "                                      color_mode='rgb',\n",
        "                                      class_mode=\"categorical\")"
      ]
    },
    {
      "cell_type": "markdown",
      "metadata": {
        "id": "MvsmO5KamNOz"
      },
      "source": [
        "## Train the Model"
      ]
    },
    {
      "cell_type": "markdown",
      "metadata": {
        "id": "WTpK3o8mmNOz"
      },
      "source": [
        "Time to train the model! Pass the `train` and `valid` iterators into the `fit` function, as well as setting your desired number of epochs."
      ]
    },
    {
      "cell_type": "code",
      "execution_count": 16,
      "metadata": {
        "colab": {
          "base_uri": "https://localhost:8080/",
          "height": 407
        },
        "id": "2iUMKxXCmNOz",
        "outputId": "d732c3de-21f8-4bd3-cb53-312ade9856df"
      },
      "outputs": [
        {
          "output_type": "stream",
          "name": "stdout",
          "text": [
            "Epoch 1/10\n",
            "\u001b[1m2/7\u001b[0m \u001b[32m━━━━━\u001b[0m\u001b[37m━━━━━━━━━━━━━━━\u001b[0m \u001b[1m1:39\u001b[0m 20s/step - accuracy: 1.0000 - loss: 0.0158"
          ]
        },
        {
          "output_type": "error",
          "ename": "KeyboardInterrupt",
          "evalue": "",
          "traceback": [
            "\u001b[0;31m---------------------------------------------------------------------------\u001b[0m",
            "\u001b[0;31mKeyboardInterrupt\u001b[0m                         Traceback (most recent call last)",
            "\u001b[0;32m<ipython-input-16-38327fbf5838>\u001b[0m in \u001b[0;36m<cell line: 0>\u001b[0;34m()\u001b[0m\n\u001b[0;32m----> 1\u001b[0;31m trainmodel = model.fit(train_it,\n\u001b[0m\u001b[1;32m      2\u001b[0m           \u001b[0mvalidation_data\u001b[0m\u001b[0;34m=\u001b[0m\u001b[0mvalid_it\u001b[0m\u001b[0;34m,\u001b[0m\u001b[0;34m\u001b[0m\u001b[0;34m\u001b[0m\u001b[0m\n\u001b[1;32m      3\u001b[0m           \u001b[0msteps_per_epoch\u001b[0m\u001b[0;34m=\u001b[0m\u001b[0mint\u001b[0m\u001b[0;34m(\u001b[0m\u001b[0mtrain_it\u001b[0m\u001b[0;34m.\u001b[0m\u001b[0msamples\u001b[0m\u001b[0;34m/\u001b[0m\u001b[0mtrain_it\u001b[0m\u001b[0;34m.\u001b[0m\u001b[0mbatch_size\u001b[0m\u001b[0;34m)\u001b[0m\u001b[0;34m,\u001b[0m\u001b[0;34m\u001b[0m\u001b[0;34m\u001b[0m\u001b[0m\n\u001b[1;32m      4\u001b[0m           \u001b[0mvalidation_steps\u001b[0m\u001b[0;34m=\u001b[0m\u001b[0mint\u001b[0m\u001b[0;34m(\u001b[0m\u001b[0mvalid_it\u001b[0m\u001b[0;34m.\u001b[0m\u001b[0msamples\u001b[0m\u001b[0;34m/\u001b[0m\u001b[0mvalid_it\u001b[0m\u001b[0;34m.\u001b[0m\u001b[0mbatch_size\u001b[0m\u001b[0;34m)\u001b[0m\u001b[0;34m,\u001b[0m\u001b[0;34m\u001b[0m\u001b[0;34m\u001b[0m\u001b[0m\n\u001b[1;32m      5\u001b[0m           epochs=10)\n",
            "\u001b[0;32m/usr/local/lib/python3.11/dist-packages/keras/src/utils/traceback_utils.py\u001b[0m in \u001b[0;36merror_handler\u001b[0;34m(*args, **kwargs)\u001b[0m\n\u001b[1;32m    115\u001b[0m         \u001b[0mfiltered_tb\u001b[0m \u001b[0;34m=\u001b[0m \u001b[0;32mNone\u001b[0m\u001b[0;34m\u001b[0m\u001b[0;34m\u001b[0m\u001b[0m\n\u001b[1;32m    116\u001b[0m         \u001b[0;32mtry\u001b[0m\u001b[0;34m:\u001b[0m\u001b[0;34m\u001b[0m\u001b[0;34m\u001b[0m\u001b[0m\n\u001b[0;32m--> 117\u001b[0;31m             \u001b[0;32mreturn\u001b[0m \u001b[0mfn\u001b[0m\u001b[0;34m(\u001b[0m\u001b[0;34m*\u001b[0m\u001b[0margs\u001b[0m\u001b[0;34m,\u001b[0m \u001b[0;34m**\u001b[0m\u001b[0mkwargs\u001b[0m\u001b[0;34m)\u001b[0m\u001b[0;34m\u001b[0m\u001b[0;34m\u001b[0m\u001b[0m\n\u001b[0m\u001b[1;32m    118\u001b[0m         \u001b[0;32mexcept\u001b[0m \u001b[0mException\u001b[0m \u001b[0;32mas\u001b[0m \u001b[0me\u001b[0m\u001b[0;34m:\u001b[0m\u001b[0;34m\u001b[0m\u001b[0;34m\u001b[0m\u001b[0m\n\u001b[1;32m    119\u001b[0m             \u001b[0mfiltered_tb\u001b[0m \u001b[0;34m=\u001b[0m \u001b[0m_process_traceback_frames\u001b[0m\u001b[0;34m(\u001b[0m\u001b[0me\u001b[0m\u001b[0;34m.\u001b[0m\u001b[0m__traceback__\u001b[0m\u001b[0;34m)\u001b[0m\u001b[0;34m\u001b[0m\u001b[0;34m\u001b[0m\u001b[0m\n",
            "\u001b[0;32m/usr/local/lib/python3.11/dist-packages/keras/src/backend/tensorflow/trainer.py\u001b[0m in \u001b[0;36mfit\u001b[0;34m(self, x, y, batch_size, epochs, verbose, callbacks, validation_split, validation_data, shuffle, class_weight, sample_weight, initial_epoch, steps_per_epoch, validation_steps, validation_batch_size, validation_freq)\u001b[0m\n\u001b[1;32m    369\u001b[0m                 \u001b[0;32mfor\u001b[0m \u001b[0mstep\u001b[0m\u001b[0;34m,\u001b[0m \u001b[0miterator\u001b[0m \u001b[0;32min\u001b[0m \u001b[0mepoch_iterator\u001b[0m\u001b[0;34m:\u001b[0m\u001b[0;34m\u001b[0m\u001b[0;34m\u001b[0m\u001b[0m\n\u001b[1;32m    370\u001b[0m                     \u001b[0mcallbacks\u001b[0m\u001b[0;34m.\u001b[0m\u001b[0mon_train_batch_begin\u001b[0m\u001b[0;34m(\u001b[0m\u001b[0mstep\u001b[0m\u001b[0;34m)\u001b[0m\u001b[0;34m\u001b[0m\u001b[0;34m\u001b[0m\u001b[0m\n\u001b[0;32m--> 371\u001b[0;31m                     \u001b[0mlogs\u001b[0m \u001b[0;34m=\u001b[0m \u001b[0mself\u001b[0m\u001b[0;34m.\u001b[0m\u001b[0mtrain_function\u001b[0m\u001b[0;34m(\u001b[0m\u001b[0miterator\u001b[0m\u001b[0;34m)\u001b[0m\u001b[0;34m\u001b[0m\u001b[0;34m\u001b[0m\u001b[0m\n\u001b[0m\u001b[1;32m    372\u001b[0m                     \u001b[0mcallbacks\u001b[0m\u001b[0;34m.\u001b[0m\u001b[0mon_train_batch_end\u001b[0m\u001b[0;34m(\u001b[0m\u001b[0mstep\u001b[0m\u001b[0;34m,\u001b[0m \u001b[0mlogs\u001b[0m\u001b[0;34m)\u001b[0m\u001b[0;34m\u001b[0m\u001b[0;34m\u001b[0m\u001b[0m\n\u001b[1;32m    373\u001b[0m                     \u001b[0;32mif\u001b[0m \u001b[0mself\u001b[0m\u001b[0;34m.\u001b[0m\u001b[0mstop_training\u001b[0m\u001b[0;34m:\u001b[0m\u001b[0;34m\u001b[0m\u001b[0;34m\u001b[0m\u001b[0m\n",
            "\u001b[0;32m/usr/local/lib/python3.11/dist-packages/keras/src/backend/tensorflow/trainer.py\u001b[0m in \u001b[0;36mfunction\u001b[0;34m(iterator)\u001b[0m\n\u001b[1;32m    217\u001b[0m                 \u001b[0miterator\u001b[0m\u001b[0;34m,\u001b[0m \u001b[0;34m(\u001b[0m\u001b[0mtf\u001b[0m\u001b[0;34m.\u001b[0m\u001b[0mdata\u001b[0m\u001b[0;34m.\u001b[0m\u001b[0mIterator\u001b[0m\u001b[0;34m,\u001b[0m \u001b[0mtf\u001b[0m\u001b[0;34m.\u001b[0m\u001b[0mdistribute\u001b[0m\u001b[0;34m.\u001b[0m\u001b[0mDistributedIterator\u001b[0m\u001b[0;34m)\u001b[0m\u001b[0;34m\u001b[0m\u001b[0;34m\u001b[0m\u001b[0m\n\u001b[1;32m    218\u001b[0m             ):\n\u001b[0;32m--> 219\u001b[0;31m                 \u001b[0mopt_outputs\u001b[0m \u001b[0;34m=\u001b[0m \u001b[0mmulti_step_on_iterator\u001b[0m\u001b[0;34m(\u001b[0m\u001b[0miterator\u001b[0m\u001b[0;34m)\u001b[0m\u001b[0;34m\u001b[0m\u001b[0;34m\u001b[0m\u001b[0m\n\u001b[0m\u001b[1;32m    220\u001b[0m                 \u001b[0;32mif\u001b[0m \u001b[0;32mnot\u001b[0m \u001b[0mopt_outputs\u001b[0m\u001b[0;34m.\u001b[0m\u001b[0mhas_value\u001b[0m\u001b[0;34m(\u001b[0m\u001b[0;34m)\u001b[0m\u001b[0;34m:\u001b[0m\u001b[0;34m\u001b[0m\u001b[0;34m\u001b[0m\u001b[0m\n\u001b[1;32m    221\u001b[0m                     \u001b[0;32mraise\u001b[0m \u001b[0mStopIteration\u001b[0m\u001b[0;34m\u001b[0m\u001b[0;34m\u001b[0m\u001b[0m\n",
            "\u001b[0;32m/usr/local/lib/python3.11/dist-packages/tensorflow/python/util/traceback_utils.py\u001b[0m in \u001b[0;36merror_handler\u001b[0;34m(*args, **kwargs)\u001b[0m\n\u001b[1;32m    148\u001b[0m     \u001b[0mfiltered_tb\u001b[0m \u001b[0;34m=\u001b[0m \u001b[0;32mNone\u001b[0m\u001b[0;34m\u001b[0m\u001b[0;34m\u001b[0m\u001b[0m\n\u001b[1;32m    149\u001b[0m     \u001b[0;32mtry\u001b[0m\u001b[0;34m:\u001b[0m\u001b[0;34m\u001b[0m\u001b[0;34m\u001b[0m\u001b[0m\n\u001b[0;32m--> 150\u001b[0;31m       \u001b[0;32mreturn\u001b[0m \u001b[0mfn\u001b[0m\u001b[0;34m(\u001b[0m\u001b[0;34m*\u001b[0m\u001b[0margs\u001b[0m\u001b[0;34m,\u001b[0m \u001b[0;34m**\u001b[0m\u001b[0mkwargs\u001b[0m\u001b[0;34m)\u001b[0m\u001b[0;34m\u001b[0m\u001b[0;34m\u001b[0m\u001b[0m\n\u001b[0m\u001b[1;32m    151\u001b[0m     \u001b[0;32mexcept\u001b[0m \u001b[0mException\u001b[0m \u001b[0;32mas\u001b[0m \u001b[0me\u001b[0m\u001b[0;34m:\u001b[0m\u001b[0;34m\u001b[0m\u001b[0;34m\u001b[0m\u001b[0m\n\u001b[1;32m    152\u001b[0m       \u001b[0mfiltered_tb\u001b[0m \u001b[0;34m=\u001b[0m \u001b[0m_process_traceback_frames\u001b[0m\u001b[0;34m(\u001b[0m\u001b[0me\u001b[0m\u001b[0;34m.\u001b[0m\u001b[0m__traceback__\u001b[0m\u001b[0;34m)\u001b[0m\u001b[0;34m\u001b[0m\u001b[0;34m\u001b[0m\u001b[0m\n",
            "\u001b[0;32m/usr/local/lib/python3.11/dist-packages/tensorflow/python/eager/polymorphic_function/polymorphic_function.py\u001b[0m in \u001b[0;36m__call__\u001b[0;34m(self, *args, **kwds)\u001b[0m\n\u001b[1;32m    831\u001b[0m \u001b[0;34m\u001b[0m\u001b[0m\n\u001b[1;32m    832\u001b[0m       \u001b[0;32mwith\u001b[0m \u001b[0mOptionalXlaContext\u001b[0m\u001b[0;34m(\u001b[0m\u001b[0mself\u001b[0m\u001b[0;34m.\u001b[0m\u001b[0m_jit_compile\u001b[0m\u001b[0;34m)\u001b[0m\u001b[0;34m:\u001b[0m\u001b[0;34m\u001b[0m\u001b[0;34m\u001b[0m\u001b[0m\n\u001b[0;32m--> 833\u001b[0;31m         \u001b[0mresult\u001b[0m \u001b[0;34m=\u001b[0m \u001b[0mself\u001b[0m\u001b[0;34m.\u001b[0m\u001b[0m_call\u001b[0m\u001b[0;34m(\u001b[0m\u001b[0;34m*\u001b[0m\u001b[0margs\u001b[0m\u001b[0;34m,\u001b[0m \u001b[0;34m**\u001b[0m\u001b[0mkwds\u001b[0m\u001b[0;34m)\u001b[0m\u001b[0;34m\u001b[0m\u001b[0;34m\u001b[0m\u001b[0m\n\u001b[0m\u001b[1;32m    834\u001b[0m \u001b[0;34m\u001b[0m\u001b[0m\n\u001b[1;32m    835\u001b[0m       \u001b[0mnew_tracing_count\u001b[0m \u001b[0;34m=\u001b[0m \u001b[0mself\u001b[0m\u001b[0;34m.\u001b[0m\u001b[0mexperimental_get_tracing_count\u001b[0m\u001b[0;34m(\u001b[0m\u001b[0;34m)\u001b[0m\u001b[0;34m\u001b[0m\u001b[0;34m\u001b[0m\u001b[0m\n",
            "\u001b[0;32m/usr/local/lib/python3.11/dist-packages/tensorflow/python/eager/polymorphic_function/polymorphic_function.py\u001b[0m in \u001b[0;36m_call\u001b[0;34m(self, *args, **kwds)\u001b[0m\n\u001b[1;32m    876\u001b[0m       \u001b[0;31m# In this case we have not created variables on the first call. So we can\u001b[0m\u001b[0;34m\u001b[0m\u001b[0;34m\u001b[0m\u001b[0m\n\u001b[1;32m    877\u001b[0m       \u001b[0;31m# run the first trace but we should fail if variables are created.\u001b[0m\u001b[0;34m\u001b[0m\u001b[0;34m\u001b[0m\u001b[0m\n\u001b[0;32m--> 878\u001b[0;31m       results = tracing_compilation.call_function(\n\u001b[0m\u001b[1;32m    879\u001b[0m           \u001b[0margs\u001b[0m\u001b[0;34m,\u001b[0m \u001b[0mkwds\u001b[0m\u001b[0;34m,\u001b[0m \u001b[0mself\u001b[0m\u001b[0;34m.\u001b[0m\u001b[0m_variable_creation_config\u001b[0m\u001b[0;34m\u001b[0m\u001b[0;34m\u001b[0m\u001b[0m\n\u001b[1;32m    880\u001b[0m       )\n",
            "\u001b[0;32m/usr/local/lib/python3.11/dist-packages/tensorflow/python/eager/polymorphic_function/tracing_compilation.py\u001b[0m in \u001b[0;36mcall_function\u001b[0;34m(args, kwargs, tracing_options)\u001b[0m\n\u001b[1;32m    137\u001b[0m   \u001b[0mbound_args\u001b[0m \u001b[0;34m=\u001b[0m \u001b[0mfunction\u001b[0m\u001b[0;34m.\u001b[0m\u001b[0mfunction_type\u001b[0m\u001b[0;34m.\u001b[0m\u001b[0mbind\u001b[0m\u001b[0;34m(\u001b[0m\u001b[0;34m*\u001b[0m\u001b[0margs\u001b[0m\u001b[0;34m,\u001b[0m \u001b[0;34m**\u001b[0m\u001b[0mkwargs\u001b[0m\u001b[0;34m)\u001b[0m\u001b[0;34m\u001b[0m\u001b[0;34m\u001b[0m\u001b[0m\n\u001b[1;32m    138\u001b[0m   \u001b[0mflat_inputs\u001b[0m \u001b[0;34m=\u001b[0m \u001b[0mfunction\u001b[0m\u001b[0;34m.\u001b[0m\u001b[0mfunction_type\u001b[0m\u001b[0;34m.\u001b[0m\u001b[0munpack_inputs\u001b[0m\u001b[0;34m(\u001b[0m\u001b[0mbound_args\u001b[0m\u001b[0;34m)\u001b[0m\u001b[0;34m\u001b[0m\u001b[0;34m\u001b[0m\u001b[0m\n\u001b[0;32m--> 139\u001b[0;31m   return function._call_flat(  # pylint: disable=protected-access\n\u001b[0m\u001b[1;32m    140\u001b[0m       \u001b[0mflat_inputs\u001b[0m\u001b[0;34m,\u001b[0m \u001b[0mcaptured_inputs\u001b[0m\u001b[0;34m=\u001b[0m\u001b[0mfunction\u001b[0m\u001b[0;34m.\u001b[0m\u001b[0mcaptured_inputs\u001b[0m\u001b[0;34m\u001b[0m\u001b[0;34m\u001b[0m\u001b[0m\n\u001b[1;32m    141\u001b[0m   )\n",
            "\u001b[0;32m/usr/local/lib/python3.11/dist-packages/tensorflow/python/eager/polymorphic_function/concrete_function.py\u001b[0m in \u001b[0;36m_call_flat\u001b[0;34m(self, tensor_inputs, captured_inputs)\u001b[0m\n\u001b[1;32m   1320\u001b[0m         and executing_eagerly):\n\u001b[1;32m   1321\u001b[0m       \u001b[0;31m# No tape is watching; skip to running the function.\u001b[0m\u001b[0;34m\u001b[0m\u001b[0;34m\u001b[0m\u001b[0m\n\u001b[0;32m-> 1322\u001b[0;31m       \u001b[0;32mreturn\u001b[0m \u001b[0mself\u001b[0m\u001b[0;34m.\u001b[0m\u001b[0m_inference_function\u001b[0m\u001b[0;34m.\u001b[0m\u001b[0mcall_preflattened\u001b[0m\u001b[0;34m(\u001b[0m\u001b[0margs\u001b[0m\u001b[0;34m)\u001b[0m\u001b[0;34m\u001b[0m\u001b[0;34m\u001b[0m\u001b[0m\n\u001b[0m\u001b[1;32m   1323\u001b[0m     forward_backward = self._select_forward_and_backward_functions(\n\u001b[1;32m   1324\u001b[0m         \u001b[0margs\u001b[0m\u001b[0;34m,\u001b[0m\u001b[0;34m\u001b[0m\u001b[0;34m\u001b[0m\u001b[0m\n",
            "\u001b[0;32m/usr/local/lib/python3.11/dist-packages/tensorflow/python/eager/polymorphic_function/atomic_function.py\u001b[0m in \u001b[0;36mcall_preflattened\u001b[0;34m(self, args)\u001b[0m\n\u001b[1;32m    214\u001b[0m   \u001b[0;32mdef\u001b[0m \u001b[0mcall_preflattened\u001b[0m\u001b[0;34m(\u001b[0m\u001b[0mself\u001b[0m\u001b[0;34m,\u001b[0m \u001b[0margs\u001b[0m\u001b[0;34m:\u001b[0m \u001b[0mSequence\u001b[0m\u001b[0;34m[\u001b[0m\u001b[0mcore\u001b[0m\u001b[0;34m.\u001b[0m\u001b[0mTensor\u001b[0m\u001b[0;34m]\u001b[0m\u001b[0;34m)\u001b[0m \u001b[0;34m->\u001b[0m \u001b[0mAny\u001b[0m\u001b[0;34m:\u001b[0m\u001b[0;34m\u001b[0m\u001b[0;34m\u001b[0m\u001b[0m\n\u001b[1;32m    215\u001b[0m     \u001b[0;34m\"\"\"Calls with flattened tensor inputs and returns the structured output.\"\"\"\u001b[0m\u001b[0;34m\u001b[0m\u001b[0;34m\u001b[0m\u001b[0m\n\u001b[0;32m--> 216\u001b[0;31m     \u001b[0mflat_outputs\u001b[0m \u001b[0;34m=\u001b[0m \u001b[0mself\u001b[0m\u001b[0;34m.\u001b[0m\u001b[0mcall_flat\u001b[0m\u001b[0;34m(\u001b[0m\u001b[0;34m*\u001b[0m\u001b[0margs\u001b[0m\u001b[0;34m)\u001b[0m\u001b[0;34m\u001b[0m\u001b[0;34m\u001b[0m\u001b[0m\n\u001b[0m\u001b[1;32m    217\u001b[0m     \u001b[0;32mreturn\u001b[0m \u001b[0mself\u001b[0m\u001b[0;34m.\u001b[0m\u001b[0mfunction_type\u001b[0m\u001b[0;34m.\u001b[0m\u001b[0mpack_output\u001b[0m\u001b[0;34m(\u001b[0m\u001b[0mflat_outputs\u001b[0m\u001b[0;34m)\u001b[0m\u001b[0;34m\u001b[0m\u001b[0;34m\u001b[0m\u001b[0m\n\u001b[1;32m    218\u001b[0m \u001b[0;34m\u001b[0m\u001b[0m\n",
            "\u001b[0;32m/usr/local/lib/python3.11/dist-packages/tensorflow/python/eager/polymorphic_function/atomic_function.py\u001b[0m in \u001b[0;36mcall_flat\u001b[0;34m(self, *args)\u001b[0m\n\u001b[1;32m    249\u001b[0m         \u001b[0;32mwith\u001b[0m \u001b[0mrecord\u001b[0m\u001b[0;34m.\u001b[0m\u001b[0mstop_recording\u001b[0m\u001b[0;34m(\u001b[0m\u001b[0;34m)\u001b[0m\u001b[0;34m:\u001b[0m\u001b[0;34m\u001b[0m\u001b[0;34m\u001b[0m\u001b[0m\n\u001b[1;32m    250\u001b[0m           \u001b[0;32mif\u001b[0m \u001b[0mself\u001b[0m\u001b[0;34m.\u001b[0m\u001b[0m_bound_context\u001b[0m\u001b[0;34m.\u001b[0m\u001b[0mexecuting_eagerly\u001b[0m\u001b[0;34m(\u001b[0m\u001b[0;34m)\u001b[0m\u001b[0;34m:\u001b[0m\u001b[0;34m\u001b[0m\u001b[0;34m\u001b[0m\u001b[0m\n\u001b[0;32m--> 251\u001b[0;31m             outputs = self._bound_context.call_function(\n\u001b[0m\u001b[1;32m    252\u001b[0m                 \u001b[0mself\u001b[0m\u001b[0;34m.\u001b[0m\u001b[0mname\u001b[0m\u001b[0;34m,\u001b[0m\u001b[0;34m\u001b[0m\u001b[0;34m\u001b[0m\u001b[0m\n\u001b[1;32m    253\u001b[0m                 \u001b[0mlist\u001b[0m\u001b[0;34m(\u001b[0m\u001b[0margs\u001b[0m\u001b[0;34m)\u001b[0m\u001b[0;34m,\u001b[0m\u001b[0;34m\u001b[0m\u001b[0;34m\u001b[0m\u001b[0m\n",
            "\u001b[0;32m/usr/local/lib/python3.11/dist-packages/tensorflow/python/eager/context.py\u001b[0m in \u001b[0;36mcall_function\u001b[0;34m(self, name, tensor_inputs, num_outputs)\u001b[0m\n\u001b[1;32m   1681\u001b[0m     \u001b[0mcancellation_context\u001b[0m \u001b[0;34m=\u001b[0m \u001b[0mcancellation\u001b[0m\u001b[0;34m.\u001b[0m\u001b[0mcontext\u001b[0m\u001b[0;34m(\u001b[0m\u001b[0;34m)\u001b[0m\u001b[0;34m\u001b[0m\u001b[0;34m\u001b[0m\u001b[0m\n\u001b[1;32m   1682\u001b[0m     \u001b[0;32mif\u001b[0m \u001b[0mcancellation_context\u001b[0m \u001b[0;32mis\u001b[0m \u001b[0;32mNone\u001b[0m\u001b[0;34m:\u001b[0m\u001b[0;34m\u001b[0m\u001b[0;34m\u001b[0m\u001b[0m\n\u001b[0;32m-> 1683\u001b[0;31m       outputs = execute.execute(\n\u001b[0m\u001b[1;32m   1684\u001b[0m           \u001b[0mname\u001b[0m\u001b[0;34m.\u001b[0m\u001b[0mdecode\u001b[0m\u001b[0;34m(\u001b[0m\u001b[0;34m\"utf-8\"\u001b[0m\u001b[0;34m)\u001b[0m\u001b[0;34m,\u001b[0m\u001b[0;34m\u001b[0m\u001b[0;34m\u001b[0m\u001b[0m\n\u001b[1;32m   1685\u001b[0m           \u001b[0mnum_outputs\u001b[0m\u001b[0;34m=\u001b[0m\u001b[0mnum_outputs\u001b[0m\u001b[0;34m,\u001b[0m\u001b[0;34m\u001b[0m\u001b[0;34m\u001b[0m\u001b[0m\n",
            "\u001b[0;32m/usr/local/lib/python3.11/dist-packages/tensorflow/python/eager/execute.py\u001b[0m in \u001b[0;36mquick_execute\u001b[0;34m(op_name, num_outputs, inputs, attrs, ctx, name)\u001b[0m\n\u001b[1;32m     51\u001b[0m   \u001b[0;32mtry\u001b[0m\u001b[0;34m:\u001b[0m\u001b[0;34m\u001b[0m\u001b[0;34m\u001b[0m\u001b[0m\n\u001b[1;32m     52\u001b[0m     \u001b[0mctx\u001b[0m\u001b[0;34m.\u001b[0m\u001b[0mensure_initialized\u001b[0m\u001b[0;34m(\u001b[0m\u001b[0;34m)\u001b[0m\u001b[0;34m\u001b[0m\u001b[0;34m\u001b[0m\u001b[0m\n\u001b[0;32m---> 53\u001b[0;31m     tensors = pywrap_tfe.TFE_Py_Execute(ctx._handle, device_name, op_name,\n\u001b[0m\u001b[1;32m     54\u001b[0m                                         inputs, attrs, num_outputs)\n\u001b[1;32m     55\u001b[0m   \u001b[0;32mexcept\u001b[0m \u001b[0mcore\u001b[0m\u001b[0;34m.\u001b[0m\u001b[0m_NotOkStatusException\u001b[0m \u001b[0;32mas\u001b[0m \u001b[0me\u001b[0m\u001b[0;34m:\u001b[0m\u001b[0;34m\u001b[0m\u001b[0;34m\u001b[0m\u001b[0m\n",
            "\u001b[0;31mKeyboardInterrupt\u001b[0m: "
          ]
        }
      ],
      "source": [
        "trainmodel = model.fit(train_it,\n",
        "          validation_data=valid_it,\n",
        "          steps_per_epoch=int(train_it.samples/train_it.batch_size),\n",
        "          validation_steps=int(valid_it.samples/valid_it.batch_size),\n",
        "          epochs=10)"
      ]
    },
    {
      "cell_type": "code",
      "source": [
        "from sklearn.metrics import classification_report, confusion_matrix\n",
        "import matplotlib.pyplot as plt\n",
        "# Evaluate Data Training\n",
        "train_loss, train_acc = model.evaluate(train_it)\n",
        "print(f\"Training Accuracy: {train_acc * 100:.2f}%, Loss: {train_loss:.4f}\")\n",
        "\n",
        "# Visualisasi Kurva Akurasi dan Loss\n",
        "plt.figure(figsize=(12, 5))\n",
        "\n",
        "plt.subplot(1, 2, 1)\n",
        "plt.plot(trainmodel.history['accuracy'], label='Train Accuracy')\n",
        "plt.plot(trainmodel.history['val_accuracy'], label='Validation Accuracy')\n",
        "plt.title('Accuracy')\n",
        "plt.legend()\n",
        "\n",
        "plt.subplot(1, 2, 2)\n",
        "plt.plot(trainmodel.history['loss'], label='Train Loss')\n",
        "plt.plot(trainmodel.history['val_loss'], label='Validation Loss')\n",
        "plt.title('Loss')\n",
        "plt.legend()\n",
        "\n",
        "plt.show()\n"
      ],
      "metadata": {
        "colab": {
          "base_uri": "https://localhost:8080/",
          "height": 690
        },
        "id": "TIvOZz0jGEJD",
        "outputId": "25c58c08-b705-4f5d-c18d-1dccb8c49630"
      },
      "execution_count": 15,
      "outputs": [
        {
          "output_type": "stream",
          "name": "stdout",
          "text": [
            "\u001b[1m8/8\u001b[0m \u001b[32m━━━━━━━━━━━━━━━━━━━━\u001b[0m\u001b[37m\u001b[0m \u001b[1m143s\u001b[0m 18s/step - accuracy: 1.0000 - loss: 0.0142\n",
            "Training Accuracy: 100.00%, Loss: 0.0125\n"
          ]
        },
        {
          "output_type": "error",
          "ename": "NameError",
          "evalue": "name 'history' is not defined",
          "traceback": [
            "\u001b[0;31m---------------------------------------------------------------------------\u001b[0m",
            "\u001b[0;31mNameError\u001b[0m                                 Traceback (most recent call last)",
            "\u001b[0;32m<ipython-input-15-c8f330015826>\u001b[0m in \u001b[0;36m<cell line: 0>\u001b[0;34m()\u001b[0m\n\u001b[1;32m      9\u001b[0m \u001b[0;34m\u001b[0m\u001b[0m\n\u001b[1;32m     10\u001b[0m \u001b[0mplt\u001b[0m\u001b[0;34m.\u001b[0m\u001b[0msubplot\u001b[0m\u001b[0;34m(\u001b[0m\u001b[0;36m1\u001b[0m\u001b[0;34m,\u001b[0m \u001b[0;36m2\u001b[0m\u001b[0;34m,\u001b[0m \u001b[0;36m1\u001b[0m\u001b[0;34m)\u001b[0m\u001b[0;34m\u001b[0m\u001b[0;34m\u001b[0m\u001b[0m\n\u001b[0;32m---> 11\u001b[0;31m \u001b[0mplt\u001b[0m\u001b[0;34m.\u001b[0m\u001b[0mplot\u001b[0m\u001b[0;34m(\u001b[0m\u001b[0mhistory\u001b[0m\u001b[0;34m.\u001b[0m\u001b[0mhistory\u001b[0m\u001b[0;34m[\u001b[0m\u001b[0;34m'accuracy'\u001b[0m\u001b[0;34m]\u001b[0m\u001b[0;34m,\u001b[0m \u001b[0mlabel\u001b[0m\u001b[0;34m=\u001b[0m\u001b[0;34m'Train Accuracy'\u001b[0m\u001b[0;34m)\u001b[0m\u001b[0;34m\u001b[0m\u001b[0;34m\u001b[0m\u001b[0m\n\u001b[0m\u001b[1;32m     12\u001b[0m \u001b[0mplt\u001b[0m\u001b[0;34m.\u001b[0m\u001b[0mplot\u001b[0m\u001b[0;34m(\u001b[0m\u001b[0mhistory\u001b[0m\u001b[0;34m.\u001b[0m\u001b[0mhistory\u001b[0m\u001b[0;34m[\u001b[0m\u001b[0;34m'val_accuracy'\u001b[0m\u001b[0;34m]\u001b[0m\u001b[0;34m,\u001b[0m \u001b[0mlabel\u001b[0m\u001b[0;34m=\u001b[0m\u001b[0;34m'Validation Accuracy'\u001b[0m\u001b[0;34m)\u001b[0m\u001b[0;34m\u001b[0m\u001b[0;34m\u001b[0m\u001b[0m\n\u001b[1;32m     13\u001b[0m \u001b[0mplt\u001b[0m\u001b[0;34m.\u001b[0m\u001b[0mtitle\u001b[0m\u001b[0;34m(\u001b[0m\u001b[0;34m'Accuracy'\u001b[0m\u001b[0;34m)\u001b[0m\u001b[0;34m\u001b[0m\u001b[0;34m\u001b[0m\u001b[0m\n",
            "\u001b[0;31mNameError\u001b[0m: name 'history' is not defined"
          ]
        },
        {
          "output_type": "display_data",
          "data": {
            "text/plain": [
              "<Figure size 1200x500 with 1 Axes>"
            ],
            "image/png": "[encoded data removed]"
          },
          "metadata": {}
        }
      ]
    },
    {
      "cell_type": "code",
      "source": [
        "\n",
        "# Classification Report Training\n",
        "train_predictions = np.argmax(model.predict(train_it), axis=1)\n",
        "true_train_labels = train_it.classes\n",
        "train_class_names = list(train_it.class_indices.keys())\n",
        "\n",
        "print(\"Classification Report (Training):\")\n",
        "print(classification_report(true_train_labels, train_predictions, target_names=train_class_names))"
      ],
      "metadata": {
        "id": "z11uJyndGsHV"
      },
      "execution_count": null,
      "outputs": []
    },
    {
      "cell_type": "code",
      "source": [
        "# Confusion Matrix\n",
        "conf_matrix_train = confusion_matrix(true_train_labels, train_predictions)\n",
        "plt.figure(figsize=(8, 6))\n",
        "plt.imshow(conf_matrix_train, interpolation='nearest', cmap=plt.cm.Blues)\n",
        "plt.title('Confusion Matrix (Training)')\n",
        "plt.colorbar()\n",
        "tick_marks = np.arange(len(train_class_names))\n",
        "plt.xticks(tick_marks, train_class_names, rotation=45)\n",
        "plt.yticks(tick_marks, train_class_names)\n",
        "\n",
        "for i in range(conf_matrix_train.shape[0]):\n",
        "    for j in range(conf_matrix_train.shape[1]):\n",
        "        plt.text(j, i, format(conf_matrix_train[i, j], 'd'),\n",
        "                 horizontalalignment=\"center\",\n",
        "                 color=\"white\" if conf_matrix_train[i, j] > conf_matrix_train.max() / 2. else \"black\")\n",
        "\n",
        "plt.ylabel('True Label')\n",
        "plt.xlabel('Predicted Label')\n",
        "plt.tight_layout()\n",
        "plt.show()\n"
      ],
      "metadata": {
        "id": "nlsjsncTF5IB"
      },
      "execution_count": null,
      "outputs": []
    },
    {
      "cell_type": "code",
      "source": [
        "\n",
        "# Perhitungan mAP dan IoU untuk Training\n",
        "from sklearn.metrics import average_precision_score, jaccard_score\n",
        "\n",
        "# Convert ke One-Hot Encoding untuk mAP\n",
        "true_train_labels_one_hot = np.eye(len(train_class_names))[true_train_labels]\n",
        "train_predictions_prob = model.predict(train_it)\n",
        "\n",
        "# Mean Average Precision (mAP)\n",
        "mAP_train = average_precision_score(true_train_labels_one_hot, train_predictions_prob, average=\"macro\")\n",
        "print(f\"Mean Average Precision (Training): {mAP_train:.4f}\")\n",
        "\n",
        "# Intersection over Union (IoU)\n",
        "IoU_train = jaccard_score(true_train_labels, train_predictions, average=\"macro\")\n",
        "print(f\"Intersection over Union (IoU) (Training): {IoU_train:.4f}\")"
      ],
      "metadata": {
        "id": "xG7VHypDG496"
      },
      "execution_count": null,
      "outputs": []
    },
    {
      "cell_type": "markdown",
      "metadata": {
        "id": "R3SnHzolmNOz"
      },
      "source": [
        "## Unfreeze Model for Fine Tuning"
      ]
    },
    {
      "cell_type": "markdown",
      "metadata": {
        "id": "BNMmoMGcmNOz"
      },
      "source": [
        "If you have reached 92% validation accuracy already, this next step is optional. If not, we suggest fine tuning the model with a very low learning rate."
      ]
    },
    {
      "cell_type": "code",
      "execution_count": null,
      "metadata": {
        "id": "BO85hAsbmNO0"
      },
      "outputs": [],
      "source": [
        "# Unfreeze the base model\n",
        "base_model.trainable = FIXME\n",
        "\n",
        "# Compile the model with a low learning rate\n",
        "model.compile(optimizer=keras.optimizers.RMSprop(learning_rate = FIXME), loss = FIXME , metrics = FIXME)"
      ]
    },
    {
      "cell_type": "code",
      "execution_count": null,
      "metadata": {
        "id": "jp0HR-I9mNO0"
      },
      "outputs": [],
      "source": [
        "model.fit(FIXME,\n",
        "          validation_data=FIXME,\n",
        "          steps_per_epoch=train_it.samples/train_it.batch_size,\n",
        "          validation_steps=valid_it.samples/valid_it.batch_size,\n",
        "          epochs=FIXME)"
      ]
    },
    {
      "cell_type": "markdown",
      "metadata": {
        "id": "Gk_Y9AxMmNO0"
      },
      "source": [
        "## Evaluate the Model"
      ]
    },
    {
      "cell_type": "markdown",
      "metadata": {
        "id": "JrbdyxfMmNO0"
      },
      "source": [
        "Hopefully, you now have a model that has a validation accuracy of 92% or higher. If not, you may want to go back and either run more epochs of training, or adjust your data augmentation."
      ]
    },
    {
      "cell_type": "markdown",
      "metadata": {
        "id": "byYHu46YmNO0"
      },
      "source": [
        "## Discussion"
      ]
    },
    {
      "cell_type": "code",
      "execution_count": null,
      "metadata": {
        "id": "JgoQd2eVmNO0"
      },
      "outputs": [],
      "source": []
    }
  ],
  "metadata": {
    "kernelspec": {
      "display_name": "Python 3.9.6 64-bit",
      "language": "python",
      "name": "python3"
    },
    "language_info": {
      "codemirror_mode": {
        "name": "ipython",
        "version": 3
      },
      "file_extension": ".py",
      "mimetype": "text/x-python",
      "name": "python",
      "nbconvert_exporter": "python",
      "pygments_lexer": "ipython3",
      "version": "3.9.6"
    },
    "vscode": {
      "interpreter": {
        "hash": "aee8b7b246df8f9039afb4144a1f6fd8d2ca17a180786b69acc140d282b71a49"
      }
    },
    "colab": {
      "provenance": []
    }
  },
  "nbformat": 4,
  "nbformat_minor": 0
}